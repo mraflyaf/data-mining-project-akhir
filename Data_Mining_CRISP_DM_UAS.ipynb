{
  "nbformat": 4,
  "nbformat_minor": 0,
  "metadata": {
    "colab": {
      "name": "Data-Mining-CRISP-DM-UAS.ipynb",
      "provenance": [],
      "collapsed_sections": []
    },
    "kernelspec": {
      "name": "python3",
      "display_name": "Python 3"
    },
    "language_info": {
      "name": "python"
    }
  },
  "cells": [
    {
      "cell_type": "markdown",
      "source": [
        "## 1. Business Understanding\n",
        "1.\tBussiness Understanding\n",
        "Permasalahan :\n",
        "•\tKhaled adalah seorang manager marketing di sebuah perusahaan online terbesar di Indonesia.       \n",
        "•\tPerusahaannya baru saja meluncurkan versi terbaru pembaca digital (e-Reader versi 2 ), tetapi beberapa pelanggan  tidak antusias untuk membeli produk e-Reader versi 2.                         \n",
        "•\t Khaled ingin menganalisis lebih lanjut dengan menggunakan pendekatan data mining tentang   apa yang akan membuat beberapa orang termotivasi untuk membeli sebuah produk e-reader segera, selanjutnya, atau membelinya nanti.     \n",
        "•\tDengan menggunakan tersebut, Khaled percaya dapat memprediksi kapan pelanggan akan siap membeli e-Reader versi terbaru sehingga banyak pelanggan yang membeli produk pembaca digital seperti versi sebelumnya (e-Reader versi  1).\n",
        "\n",
        "Objective :\n",
        "1.\tBagaimana meningkatkan pelanggan pada e-Reader pada versi terbaru?\n",
        "Dengan mempertimbangkan sebuah pertanyaan di bawah ini untuk menjelajahi jalannya.     \n",
        "•\tBagaimana cara menemukan pola, kapan pelanggan membeli sebuah produk e-Reader berdasarkan data terkait dengan aktivitas pelanggan pada situs online?     \n",
        "Jika kita tidak bisa mengetahui pola tersebut, maka tidak banyak pelanggan yang membeli produk e-Reader versi terbaru ini dan perusahaan akan mengalami kerugian.    \n",
        "Jadi, mengetahui pola ini sangat lah penting agar ketika e-Reader versi terbaru ini keluar maka pembeli antusias sehingga pelanggan meningkat.\n"
      ],
      "metadata": {
        "id": "6M5Z-N1Qrw92"
      }
    },
    {
      "cell_type": "markdown",
      "source": [
        "Anggota Kelompok:\n",
        "1. Muhammad Rafly Afrizal Pratama(1402020062)\n",
        "2. Rogo Subandono (1402020083)\n",
        "3. Muhammad Farhan Al Anzhari (1402020090)\n",
        "4. Martha Riskiaty (1402020113)\n",
        "5. Dian Purnama Sari (1402020088)"
      ],
      "metadata": {
        "id": "ZIej7ovCBmFV"
      }
    },
    {
      "cell_type": "markdown",
      "source": [
        "### Import Libraries"
      ],
      "metadata": {
        "id": "m1gAzvtbpOKU"
      }
    },
    {
      "cell_type": "code",
      "execution_count": 1,
      "metadata": {
        "id": "Xy2ES4D-9bpK"
      },
      "outputs": [],
      "source": [
        "import seaborn as sns\n",
        "import pandas as pd\n",
        "import matplotlib.pyplot as plt\n",
        "import numpy as np\n",
        "from sklearn.model_selection import train_test_split\n",
        "from sklearn.preprocessing import StandardScaler\n",
        "from sklearn import metrics\n",
        "from sklearn.metrics import accuracy_score, precision_score, recall_score, f1_score, confusion_matrix\n",
        "from sklearn.metrics import mean_squared_error\n",
        "from scipy.stats import pearsonr\n",
        "from sklearn.neighbors import KNeighborsClassifier\n",
        "from sklearn import preprocessing"
      ]
    },
    {
      "cell_type": "markdown",
      "source": [
        "### Upload Files(CSV) using file library"
      ],
      "metadata": {
        "id": "UnNWdPQdpVKC"
      }
    },
    {
      "cell_type": "code",
      "source": [
        "from google.colab import files\n",
        "uploaded = files.upload()\n",
        "\n"
      ],
      "metadata": {
        "colab": {
          "resources": {
            "http://localhost:8080/nbextensions/google.colab/files.js": {
              "data": "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",
              "ok": true,
              "headers": [
                [
                  "content-type",
                  "application/javascript"
                ]
              ],
              "status": 200,
              "status_text": ""
            }
          },
          "base_uri": "https://localhost:8080/",
          "height": 108
        },
        "id": "hgPSfmBc-VPP",
        "outputId": "8eba5f5c-3c43-4aae-9df1-bf31327f75ee"
      },
      "execution_count": 2,
      "outputs": [
        {
          "output_type": "display_data",
          "data": {
            "text/plain": [
              "<IPython.core.display.HTML object>"
            ],
            "text/html": [
              "\n",
              "     <input type=\"file\" id=\"files-13db292b-1f06-4a99-8935-6dc1d13c99b9\" name=\"files[]\" multiple disabled\n",
              "        style=\"border:none\" />\n",
              "     <output id=\"result-13db292b-1f06-4a99-8935-6dc1d13c99b9\">\n",
              "      Upload widget is only available when the cell has been executed in the\n",
              "      current browser session. Please rerun this cell to enable.\n",
              "      </output>\n",
              "      <script src=\"/nbextensions/google.colab/files.js\"></script> "
            ]
          },
          "metadata": {}
        },
        {
          "output_type": "stream",
          "name": "stdout",
          "text": [
            "Saving eReaderAdoption-Training.csv to eReaderAdoption-Training.csv\n",
            "Saving eReaderAdoption-Scoring.csv to eReaderAdoption-Scoring.csv\n"
          ]
        }
      ]
    },
    {
      "cell_type": "code",
      "source": [
        "data_training = pd.read_csv(\"eReaderAdoption-Training.csv\")\n",
        "data_training.shape"
      ],
      "metadata": {
        "colab": {
          "base_uri": "https://localhost:8080/"
        },
        "id": "fO49fRIB-jtk",
        "outputId": "a6141372-b521-4cad-d3a3-89a025401f6e"
      },
      "execution_count": 3,
      "outputs": [
        {
          "output_type": "execute_result",
          "data": {
            "text/plain": [
              "(661, 11)"
            ]
          },
          "metadata": {},
          "execution_count": 3
        }
      ]
    },
    {
      "cell_type": "markdown",
      "source": [
        "#2. Data Understanding\n",
        "  Mengenali dataset serta memberikan pandangan awal terhadap data\n"
      ],
      "metadata": {
        "id": "qRg4wd16RXOp"
      }
    },
    {
      "cell_type": "code",
      "source": [
        "data_cadangan_training = data_training.copy()\n",
        "data_cadangan_training.head()"
      ],
      "metadata": {
        "colab": {
          "base_uri": "https://localhost:8080/",
          "height": 270
        },
        "id": "jHVBZH8u_GJh",
        "outputId": "420944ff-9cd7-43c5-a2e8-6171533f67eb"
      },
      "execution_count": 4,
      "outputs": [
        {
          "output_type": "execute_result",
          "data": {
            "text/plain": [
              "   User_ID Gender  Age Marital_Status Website_Activity  \\\n",
              "0     9552      M   61              M           Seldom   \n",
              "1     6757      M   27              M          Regular   \n",
              "2     3599      F   29              M           Seldom   \n",
              "3     6811      M   49              M           Seldom   \n",
              "4     4104      M   29              S           Seldom   \n",
              "\n",
              "  Browsed_Electronics_12Mo Bought_Electronics_12Mo Bought_Digital_Media_18Mo  \\\n",
              "0                      Yes                     Yes                       Yes   \n",
              "1                      Yes                      No                       Yes   \n",
              "2                      Yes                     Yes                       Yes   \n",
              "3                      Yes                     Yes                       Yes   \n",
              "4                      Yes                     Yes                       Yes   \n",
              "\n",
              "  Bought_Digital_Books   Payment_Method eReader_Adoption  \n",
              "0                   No    Bank Transfer    Late Majority  \n",
              "1                   No    Bank Transfer        Innovator  \n",
              "2                  Yes    Bank Transfer    Early Adopter  \n",
              "3                  Yes  Website Account    Early Adopter  \n",
              "4                   No  Website Account    Late Majority  "
            ],
            "text/html": [
              "\n",
              "  <div id=\"df-d83f130f-5574-48b9-9762-ffb39e4969a9\">\n",
              "    <div class=\"colab-df-container\">\n",
              "      <div>\n",
              "<style scoped>\n",
              "    .dataframe tbody tr th:only-of-type {\n",
              "        vertical-align: middle;\n",
              "    }\n",
              "\n",
              "    .dataframe tbody tr th {\n",
              "        vertical-align: top;\n",
              "    }\n",
              "\n",
              "    .dataframe thead th {\n",
              "        text-align: right;\n",
              "    }\n",
              "</style>\n",
              "<table border=\"1\" class=\"dataframe\">\n",
              "  <thead>\n",
              "    <tr style=\"text-align: right;\">\n",
              "      <th></th>\n",
              "      <th>User_ID</th>\n",
              "      <th>Gender</th>\n",
              "      <th>Age</th>\n",
              "      <th>Marital_Status</th>\n",
              "      <th>Website_Activity</th>\n",
              "      <th>Browsed_Electronics_12Mo</th>\n",
              "      <th>Bought_Electronics_12Mo</th>\n",
              "      <th>Bought_Digital_Media_18Mo</th>\n",
              "      <th>Bought_Digital_Books</th>\n",
              "      <th>Payment_Method</th>\n",
              "      <th>eReader_Adoption</th>\n",
              "    </tr>\n",
              "  </thead>\n",
              "  <tbody>\n",
              "    <tr>\n",
              "      <th>0</th>\n",
              "      <td>9552</td>\n",
              "      <td>M</td>\n",
              "      <td>61</td>\n",
              "      <td>M</td>\n",
              "      <td>Seldom</td>\n",
              "      <td>Yes</td>\n",
              "      <td>Yes</td>\n",
              "      <td>Yes</td>\n",
              "      <td>No</td>\n",
              "      <td>Bank Transfer</td>\n",
              "      <td>Late Majority</td>\n",
              "    </tr>\n",
              "    <tr>\n",
              "      <th>1</th>\n",
              "      <td>6757</td>\n",
              "      <td>M</td>\n",
              "      <td>27</td>\n",
              "      <td>M</td>\n",
              "      <td>Regular</td>\n",
              "      <td>Yes</td>\n",
              "      <td>No</td>\n",
              "      <td>Yes</td>\n",
              "      <td>No</td>\n",
              "      <td>Bank Transfer</td>\n",
              "      <td>Innovator</td>\n",
              "    </tr>\n",
              "    <tr>\n",
              "      <th>2</th>\n",
              "      <td>3599</td>\n",
              "      <td>F</td>\n",
              "      <td>29</td>\n",
              "      <td>M</td>\n",
              "      <td>Seldom</td>\n",
              "      <td>Yes</td>\n",
              "      <td>Yes</td>\n",
              "      <td>Yes</td>\n",
              "      <td>Yes</td>\n",
              "      <td>Bank Transfer</td>\n",
              "      <td>Early Adopter</td>\n",
              "    </tr>\n",
              "    <tr>\n",
              "      <th>3</th>\n",
              "      <td>6811</td>\n",
              "      <td>M</td>\n",
              "      <td>49</td>\n",
              "      <td>M</td>\n",
              "      <td>Seldom</td>\n",
              "      <td>Yes</td>\n",
              "      <td>Yes</td>\n",
              "      <td>Yes</td>\n",
              "      <td>Yes</td>\n",
              "      <td>Website Account</td>\n",
              "      <td>Early Adopter</td>\n",
              "    </tr>\n",
              "    <tr>\n",
              "      <th>4</th>\n",
              "      <td>4104</td>\n",
              "      <td>M</td>\n",
              "      <td>29</td>\n",
              "      <td>S</td>\n",
              "      <td>Seldom</td>\n",
              "      <td>Yes</td>\n",
              "      <td>Yes</td>\n",
              "      <td>Yes</td>\n",
              "      <td>No</td>\n",
              "      <td>Website Account</td>\n",
              "      <td>Late Majority</td>\n",
              "    </tr>\n",
              "  </tbody>\n",
              "</table>\n",
              "</div>\n",
              "      <button class=\"colab-df-convert\" onclick=\"convertToInteractive('df-d83f130f-5574-48b9-9762-ffb39e4969a9')\"\n",
              "              title=\"Convert this dataframe to an interactive table.\"\n",
              "              style=\"display:none;\">\n",
              "        \n",
              "  <svg xmlns=\"http://www.w3.org/2000/svg\" height=\"24px\"viewBox=\"0 0 24 24\"\n",
              "       width=\"24px\">\n",
              "    <path d=\"M0 0h24v24H0V0z\" fill=\"none\"/>\n",
              "    <path d=\"M18.56 5.44l.94 2.06.94-2.06 2.06-.94-2.06-.94-.94-2.06-.94 2.06-2.06.94zm-11 1L8.5 8.5l.94-2.06 2.06-.94-2.06-.94L8.5 2.5l-.94 2.06-2.06.94zm10 10l.94 2.06.94-2.06 2.06-.94-2.06-.94-.94-2.06-.94 2.06-2.06.94z\"/><path d=\"M17.41 7.96l-1.37-1.37c-.4-.4-.92-.59-1.43-.59-.52 0-1.04.2-1.43.59L10.3 9.45l-7.72 7.72c-.78.78-.78 2.05 0 2.83L4 21.41c.39.39.9.59 1.41.59.51 0 1.02-.2 1.41-.59l7.78-7.78 2.81-2.81c.8-.78.8-2.07 0-2.86zM5.41 20L4 18.59l7.72-7.72 1.47 1.35L5.41 20z\"/>\n",
              "  </svg>\n",
              "      </button>\n",
              "      \n",
              "  <style>\n",
              "    .colab-df-container {\n",
              "      display:flex;\n",
              "      flex-wrap:wrap;\n",
              "      gap: 12px;\n",
              "    }\n",
              "\n",
              "    .colab-df-convert {\n",
              "      background-color: #E8F0FE;\n",
              "      border: none;\n",
              "      border-radius: 50%;\n",
              "      cursor: pointer;\n",
              "      display: none;\n",
              "      fill: #1967D2;\n",
              "      height: 32px;\n",
              "      padding: 0 0 0 0;\n",
              "      width: 32px;\n",
              "    }\n",
              "\n",
              "    .colab-df-convert:hover {\n",
              "      background-color: #E2EBFA;\n",
              "      box-shadow: 0px 1px 2px rgba(60, 64, 67, 0.3), 0px 1px 3px 1px rgba(60, 64, 67, 0.15);\n",
              "      fill: #174EA6;\n",
              "    }\n",
              "\n",
              "    [theme=dark] .colab-df-convert {\n",
              "      background-color: #3B4455;\n",
              "      fill: #D2E3FC;\n",
              "    }\n",
              "\n",
              "    [theme=dark] .colab-df-convert:hover {\n",
              "      background-color: #434B5C;\n",
              "      box-shadow: 0px 1px 3px 1px rgba(0, 0, 0, 0.15);\n",
              "      filter: drop-shadow(0px 1px 2px rgba(0, 0, 0, 0.3));\n",
              "      fill: #FFFFFF;\n",
              "    }\n",
              "  </style>\n",
              "\n",
              "      <script>\n",
              "        const buttonEl =\n",
              "          document.querySelector('#df-d83f130f-5574-48b9-9762-ffb39e4969a9 button.colab-df-convert');\n",
              "        buttonEl.style.display =\n",
              "          google.colab.kernel.accessAllowed ? 'block' : 'none';\n",
              "\n",
              "        async function convertToInteractive(key) {\n",
              "          const element = document.querySelector('#df-d83f130f-5574-48b9-9762-ffb39e4969a9');\n",
              "          const dataTable =\n",
              "            await google.colab.kernel.invokeFunction('convertToInteractive',\n",
              "                                                     [key], {});\n",
              "          if (!dataTable) return;\n",
              "\n",
              "          const docLinkHtml = 'Like what you see? Visit the ' +\n",
              "            '<a target=\"_blank\" href=https://colab.research.google.com/notebooks/data_table.ipynb>data table notebook</a>'\n",
              "            + ' to learn more about interactive tables.';\n",
              "          element.innerHTML = '';\n",
              "          dataTable['output_type'] = 'display_data';\n",
              "          await google.colab.output.renderOutput(dataTable, element);\n",
              "          const docLink = document.createElement('div');\n",
              "          docLink.innerHTML = docLinkHtml;\n",
              "          element.appendChild(docLink);\n",
              "        }\n",
              "      </script>\n",
              "    </div>\n",
              "  </div>\n",
              "  "
            ]
          },
          "metadata": {},
          "execution_count": 4
        }
      ]
    },
    {
      "cell_type": "code",
      "source": [
        "data_scoring = pd.read_csv('eReaderAdoption-Scoring.csv')\n",
        "data_scoring_cadangan  = data_scoring.copy()\n",
        "data_scoring_cadangan.shape"
      ],
      "metadata": {
        "colab": {
          "base_uri": "https://localhost:8080/"
        },
        "id": "Y8LXFAwU_OZO",
        "outputId": "486befca-6502-459b-a0df-91f37eddcf95"
      },
      "execution_count": 5,
      "outputs": [
        {
          "output_type": "execute_result",
          "data": {
            "text/plain": [
              "(473, 10)"
            ]
          },
          "metadata": {},
          "execution_count": 5
        }
      ]
    },
    {
      "cell_type": "code",
      "source": [
        "data_scoring.head()"
      ],
      "metadata": {
        "colab": {
          "base_uri": "https://localhost:8080/",
          "height": 270
        },
        "id": "sgJ8SKFX_Smp",
        "outputId": "32751421-bfe4-4f0c-8c04-ffa3552beb91"
      },
      "execution_count": 6,
      "outputs": [
        {
          "output_type": "execute_result",
          "data": {
            "text/plain": [
              "   User_ID Gender  Age Marital_Status Website_Activity  \\\n",
              "0    56031      M   57              S          Regular   \n",
              "1    25913      F   51              M          Regular   \n",
              "2    19396      M   41              M           Seldom   \n",
              "3    93666      M   66              S          Regular   \n",
              "4    72282      F   31              S           Seldom   \n",
              "\n",
              "  Browsed_Electronics_12Mo Bought_Electronics_12Mo Bought_Digital_Media_18Mo  \\\n",
              "0                      Yes                     Yes                       Yes   \n",
              "1                      Yes                     Yes                        No   \n",
              "2                      Yes                     Yes                       Yes   \n",
              "3                      Yes                     Yes                       Yes   \n",
              "4                      Yes                      No                       Yes   \n",
              "\n",
              "  Bought_Digital_Books   Payment_Method  \n",
              "0                  Yes    Bank Transfer  \n",
              "1                   No    Bank Transfer  \n",
              "2                   No  Website Account  \n",
              "3                  Yes      Credit Card  \n",
              "4                   No  Website Account  "
            ],
            "text/html": [
              "\n",
              "  <div id=\"df-06dd637c-0698-4364-bc71-b8cc8358bb44\">\n",
              "    <div class=\"colab-df-container\">\n",
              "      <div>\n",
              "<style scoped>\n",
              "    .dataframe tbody tr th:only-of-type {\n",
              "        vertical-align: middle;\n",
              "    }\n",
              "\n",
              "    .dataframe tbody tr th {\n",
              "        vertical-align: top;\n",
              "    }\n",
              "\n",
              "    .dataframe thead th {\n",
              "        text-align: right;\n",
              "    }\n",
              "</style>\n",
              "<table border=\"1\" class=\"dataframe\">\n",
              "  <thead>\n",
              "    <tr style=\"text-align: right;\">\n",
              "      <th></th>\n",
              "      <th>User_ID</th>\n",
              "      <th>Gender</th>\n",
              "      <th>Age</th>\n",
              "      <th>Marital_Status</th>\n",
              "      <th>Website_Activity</th>\n",
              "      <th>Browsed_Electronics_12Mo</th>\n",
              "      <th>Bought_Electronics_12Mo</th>\n",
              "      <th>Bought_Digital_Media_18Mo</th>\n",
              "      <th>Bought_Digital_Books</th>\n",
              "      <th>Payment_Method</th>\n",
              "    </tr>\n",
              "  </thead>\n",
              "  <tbody>\n",
              "    <tr>\n",
              "      <th>0</th>\n",
              "      <td>56031</td>\n",
              "      <td>M</td>\n",
              "      <td>57</td>\n",
              "      <td>S</td>\n",
              "      <td>Regular</td>\n",
              "      <td>Yes</td>\n",
              "      <td>Yes</td>\n",
              "      <td>Yes</td>\n",
              "      <td>Yes</td>\n",
              "      <td>Bank Transfer</td>\n",
              "    </tr>\n",
              "    <tr>\n",
              "      <th>1</th>\n",
              "      <td>25913</td>\n",
              "      <td>F</td>\n",
              "      <td>51</td>\n",
              "      <td>M</td>\n",
              "      <td>Regular</td>\n",
              "      <td>Yes</td>\n",
              "      <td>Yes</td>\n",
              "      <td>No</td>\n",
              "      <td>No</td>\n",
              "      <td>Bank Transfer</td>\n",
              "    </tr>\n",
              "    <tr>\n",
              "      <th>2</th>\n",
              "      <td>19396</td>\n",
              "      <td>M</td>\n",
              "      <td>41</td>\n",
              "      <td>M</td>\n",
              "      <td>Seldom</td>\n",
              "      <td>Yes</td>\n",
              "      <td>Yes</td>\n",
              "      <td>Yes</td>\n",
              "      <td>No</td>\n",
              "      <td>Website Account</td>\n",
              "    </tr>\n",
              "    <tr>\n",
              "      <th>3</th>\n",
              "      <td>93666</td>\n",
              "      <td>M</td>\n",
              "      <td>66</td>\n",
              "      <td>S</td>\n",
              "      <td>Regular</td>\n",
              "      <td>Yes</td>\n",
              "      <td>Yes</td>\n",
              "      <td>Yes</td>\n",
              "      <td>Yes</td>\n",
              "      <td>Credit Card</td>\n",
              "    </tr>\n",
              "    <tr>\n",
              "      <th>4</th>\n",
              "      <td>72282</td>\n",
              "      <td>F</td>\n",
              "      <td>31</td>\n",
              "      <td>S</td>\n",
              "      <td>Seldom</td>\n",
              "      <td>Yes</td>\n",
              "      <td>No</td>\n",
              "      <td>Yes</td>\n",
              "      <td>No</td>\n",
              "      <td>Website Account</td>\n",
              "    </tr>\n",
              "  </tbody>\n",
              "</table>\n",
              "</div>\n",
              "      <button class=\"colab-df-convert\" onclick=\"convertToInteractive('df-06dd637c-0698-4364-bc71-b8cc8358bb44')\"\n",
              "              title=\"Convert this dataframe to an interactive table.\"\n",
              "              style=\"display:none;\">\n",
              "        \n",
              "  <svg xmlns=\"http://www.w3.org/2000/svg\" height=\"24px\"viewBox=\"0 0 24 24\"\n",
              "       width=\"24px\">\n",
              "    <path d=\"M0 0h24v24H0V0z\" fill=\"none\"/>\n",
              "    <path d=\"M18.56 5.44l.94 2.06.94-2.06 2.06-.94-2.06-.94-.94-2.06-.94 2.06-2.06.94zm-11 1L8.5 8.5l.94-2.06 2.06-.94-2.06-.94L8.5 2.5l-.94 2.06-2.06.94zm10 10l.94 2.06.94-2.06 2.06-.94-2.06-.94-.94-2.06-.94 2.06-2.06.94z\"/><path d=\"M17.41 7.96l-1.37-1.37c-.4-.4-.92-.59-1.43-.59-.52 0-1.04.2-1.43.59L10.3 9.45l-7.72 7.72c-.78.78-.78 2.05 0 2.83L4 21.41c.39.39.9.59 1.41.59.51 0 1.02-.2 1.41-.59l7.78-7.78 2.81-2.81c.8-.78.8-2.07 0-2.86zM5.41 20L4 18.59l7.72-7.72 1.47 1.35L5.41 20z\"/>\n",
              "  </svg>\n",
              "      </button>\n",
              "      \n",
              "  <style>\n",
              "    .colab-df-container {\n",
              "      display:flex;\n",
              "      flex-wrap:wrap;\n",
              "      gap: 12px;\n",
              "    }\n",
              "\n",
              "    .colab-df-convert {\n",
              "      background-color: #E8F0FE;\n",
              "      border: none;\n",
              "      border-radius: 50%;\n",
              "      cursor: pointer;\n",
              "      display: none;\n",
              "      fill: #1967D2;\n",
              "      height: 32px;\n",
              "      padding: 0 0 0 0;\n",
              "      width: 32px;\n",
              "    }\n",
              "\n",
              "    .colab-df-convert:hover {\n",
              "      background-color: #E2EBFA;\n",
              "      box-shadow: 0px 1px 2px rgba(60, 64, 67, 0.3), 0px 1px 3px 1px rgba(60, 64, 67, 0.15);\n",
              "      fill: #174EA6;\n",
              "    }\n",
              "\n",
              "    [theme=dark] .colab-df-convert {\n",
              "      background-color: #3B4455;\n",
              "      fill: #D2E3FC;\n",
              "    }\n",
              "\n",
              "    [theme=dark] .colab-df-convert:hover {\n",
              "      background-color: #434B5C;\n",
              "      box-shadow: 0px 1px 3px 1px rgba(0, 0, 0, 0.15);\n",
              "      filter: drop-shadow(0px 1px 2px rgba(0, 0, 0, 0.3));\n",
              "      fill: #FFFFFF;\n",
              "    }\n",
              "  </style>\n",
              "\n",
              "      <script>\n",
              "        const buttonEl =\n",
              "          document.querySelector('#df-06dd637c-0698-4364-bc71-b8cc8358bb44 button.colab-df-convert');\n",
              "        buttonEl.style.display =\n",
              "          google.colab.kernel.accessAllowed ? 'block' : 'none';\n",
              "\n",
              "        async function convertToInteractive(key) {\n",
              "          const element = document.querySelector('#df-06dd637c-0698-4364-bc71-b8cc8358bb44');\n",
              "          const dataTable =\n",
              "            await google.colab.kernel.invokeFunction('convertToInteractive',\n",
              "                                                     [key], {});\n",
              "          if (!dataTable) return;\n",
              "\n",
              "          const docLinkHtml = 'Like what you see? Visit the ' +\n",
              "            '<a target=\"_blank\" href=https://colab.research.google.com/notebooks/data_table.ipynb>data table notebook</a>'\n",
              "            + ' to learn more about interactive tables.';\n",
              "          element.innerHTML = '';\n",
              "          dataTable['output_type'] = 'display_data';\n",
              "          await google.colab.output.renderOutput(dataTable, element);\n",
              "          const docLink = document.createElement('div');\n",
              "          docLink.innerHTML = docLinkHtml;\n",
              "          element.appendChild(docLink);\n",
              "        }\n",
              "      </script>\n",
              "    </div>\n",
              "  </div>\n",
              "  "
            ]
          },
          "metadata": {},
          "execution_count": 6
        }
      ]
    },
    {
      "cell_type": "markdown",
      "source": [
        "  ### 2.1 Data Visualization\n",
        "    Melakukan visualisasi terhadap features-features yang dimiliki suatu data"
      ],
      "metadata": {
        "id": "2LdewP4d9jz9"
      }
    },
    {
      "cell_type": "code",
      "source": [
        "data_training[\"eReader_Adoption\"].value_counts()"
      ],
      "metadata": {
        "colab": {
          "base_uri": "https://localhost:8080/"
        },
        "id": "ayY8uHuR9l8g",
        "outputId": "bef18fbf-bf87-4421-a3d7-280752c03e6b"
      },
      "execution_count": 7,
      "outputs": [
        {
          "output_type": "execute_result",
          "data": {
            "text/plain": [
              "Early Adopter     205\n",
              "Early Majority    186\n",
              "Late Majority     172\n",
              "Innovator          98\n",
              "Name: eReader_Adoption, dtype: int64"
            ]
          },
          "metadata": {},
          "execution_count": 7
        }
      ]
    },
    {
      "cell_type": "code",
      "source": [
        "sns.countplot(x=data_training['eReader_Adoption'], palette = \"rocket\")"
      ],
      "metadata": {
        "colab": {
          "base_uri": "https://localhost:8080/",
          "height": 297
        },
        "id": "8ylTEXnG9u89",
        "outputId": "1cc04a6e-c218-4a57-acc4-0a5658ca8c3f"
      },
      "execution_count": 8,
      "outputs": [
        {
          "output_type": "execute_result",
          "data": {
            "text/plain": [
              "<matplotlib.axes._subplots.AxesSubplot at 0x7f0329639810>"
            ]
          },
          "metadata": {},
          "execution_count": 8
        },
        {
          "output_type": "display_data",
          "data": {
            "text/plain": [
              "<Figure size 432x288 with 1 Axes>"
            ],
            "image/png": "[encoded data removed]"
          },
          "metadata": {
            "needs_background": "light"
          }
        }
      ]
    },
    {
      "cell_type": "code",
      "source": [
        "dekorelasi=data_cadangan_training.corr()\n",
        "dekorelasi"
      ],
      "metadata": {
        "colab": {
          "base_uri": "https://localhost:8080/",
          "height": 112
        },
        "id": "HzulRuSFshZg",
        "outputId": "b22bb3dd-5329-4746-8516-5f8d081d974b"
      },
      "execution_count": 9,
      "outputs": [
        {
          "output_type": "execute_result",
          "data": {
            "text/plain": [
              "          User_ID       Age\n",
              "User_ID  1.000000  0.006579\n",
              "Age      0.006579  1.000000"
            ],
            "text/html": [
              "\n",
              "  <div id=\"df-bf0db126-2850-4e5b-a692-5c8b669ca904\">\n",
              "    <div class=\"colab-df-container\">\n",
              "      <div>\n",
              "<style scoped>\n",
              "    .dataframe tbody tr th:only-of-type {\n",
              "        vertical-align: middle;\n",
              "    }\n",
              "\n",
              "    .dataframe tbody tr th {\n",
              "        vertical-align: top;\n",
              "    }\n",
              "\n",
              "    .dataframe thead th {\n",
              "        text-align: right;\n",
              "    }\n",
              "</style>\n",
              "<table border=\"1\" class=\"dataframe\">\n",
              "  <thead>\n",
              "    <tr style=\"text-align: right;\">\n",
              "      <th></th>\n",
              "      <th>User_ID</th>\n",
              "      <th>Age</th>\n",
              "    </tr>\n",
              "  </thead>\n",
              "  <tbody>\n",
              "    <tr>\n",
              "      <th>User_ID</th>\n",
              "      <td>1.000000</td>\n",
              "      <td>0.006579</td>\n",
              "    </tr>\n",
              "    <tr>\n",
              "      <th>Age</th>\n",
              "      <td>0.006579</td>\n",
              "      <td>1.000000</td>\n",
              "    </tr>\n",
              "  </tbody>\n",
              "</table>\n",
              "</div>\n",
              "      <button class=\"colab-df-convert\" onclick=\"convertToInteractive('df-bf0db126-2850-4e5b-a692-5c8b669ca904')\"\n",
              "              title=\"Convert this dataframe to an interactive table.\"\n",
              "              style=\"display:none;\">\n",
              "        \n",
              "  <svg xmlns=\"http://www.w3.org/2000/svg\" height=\"24px\"viewBox=\"0 0 24 24\"\n",
              "       width=\"24px\">\n",
              "    <path d=\"M0 0h24v24H0V0z\" fill=\"none\"/>\n",
              "    <path d=\"M18.56 5.44l.94 2.06.94-2.06 2.06-.94-2.06-.94-.94-2.06-.94 2.06-2.06.94zm-11 1L8.5 8.5l.94-2.06 2.06-.94-2.06-.94L8.5 2.5l-.94 2.06-2.06.94zm10 10l.94 2.06.94-2.06 2.06-.94-2.06-.94-.94-2.06-.94 2.06-2.06.94z\"/><path d=\"M17.41 7.96l-1.37-1.37c-.4-.4-.92-.59-1.43-.59-.52 0-1.04.2-1.43.59L10.3 9.45l-7.72 7.72c-.78.78-.78 2.05 0 2.83L4 21.41c.39.39.9.59 1.41.59.51 0 1.02-.2 1.41-.59l7.78-7.78 2.81-2.81c.8-.78.8-2.07 0-2.86zM5.41 20L4 18.59l7.72-7.72 1.47 1.35L5.41 20z\"/>\n",
              "  </svg>\n",
              "      </button>\n",
              "      \n",
              "  <style>\n",
              "    .colab-df-container {\n",
              "      display:flex;\n",
              "      flex-wrap:wrap;\n",
              "      gap: 12px;\n",
              "    }\n",
              "\n",
              "    .colab-df-convert {\n",
              "      background-color: #E8F0FE;\n",
              "      border: none;\n",
              "      border-radius: 50%;\n",
              "      cursor: pointer;\n",
              "      display: none;\n",
              "      fill: #1967D2;\n",
              "      height: 32px;\n",
              "      padding: 0 0 0 0;\n",
              "      width: 32px;\n",
              "    }\n",
              "\n",
              "    .colab-df-convert:hover {\n",
              "      background-color: #E2EBFA;\n",
              "      box-shadow: 0px 1px 2px rgba(60, 64, 67, 0.3), 0px 1px 3px 1px rgba(60, 64, 67, 0.15);\n",
              "      fill: #174EA6;\n",
              "    }\n",
              "\n",
              "    [theme=dark] .colab-df-convert {\n",
              "      background-color: #3B4455;\n",
              "      fill: #D2E3FC;\n",
              "    }\n",
              "\n",
              "    [theme=dark] .colab-df-convert:hover {\n",
              "      background-color: #434B5C;\n",
              "      box-shadow: 0px 1px 3px 1px rgba(0, 0, 0, 0.15);\n",
              "      filter: drop-shadow(0px 1px 2px rgba(0, 0, 0, 0.3));\n",
              "      fill: #FFFFFF;\n",
              "    }\n",
              "  </style>\n",
              "\n",
              "      <script>\n",
              "        const buttonEl =\n",
              "          document.querySelector('#df-bf0db126-2850-4e5b-a692-5c8b669ca904 button.colab-df-convert');\n",
              "        buttonEl.style.display =\n",
              "          google.colab.kernel.accessAllowed ? 'block' : 'none';\n",
              "\n",
              "        async function convertToInteractive(key) {\n",
              "          const element = document.querySelector('#df-bf0db126-2850-4e5b-a692-5c8b669ca904');\n",
              "          const dataTable =\n",
              "            await google.colab.kernel.invokeFunction('convertToInteractive',\n",
              "                                                     [key], {});\n",
              "          if (!dataTable) return;\n",
              "\n",
              "          const docLinkHtml = 'Like what you see? Visit the ' +\n",
              "            '<a target=\"_blank\" href=https://colab.research.google.com/notebooks/data_table.ipynb>data table notebook</a>'\n",
              "            + ' to learn more about interactive tables.';\n",
              "          element.innerHTML = '';\n",
              "          dataTable['output_type'] = 'display_data';\n",
              "          await google.colab.output.renderOutput(dataTable, element);\n",
              "          const docLink = document.createElement('div');\n",
              "          docLink.innerHTML = docLinkHtml;\n",
              "          element.appendChild(docLink);\n",
              "        }\n",
              "      </script>\n",
              "    </div>\n",
              "  </div>\n",
              "  "
            ]
          },
          "metadata": {},
          "execution_count": 9
        }
      ]
    },
    {
      "cell_type": "code",
      "source": [
        "import seaborn as sns\n",
        "sns.heatmap(dekorelasi)"
      ],
      "metadata": {
        "colab": {
          "base_uri": "https://localhost:8080/",
          "height": 287
        },
        "id": "W-IwdBzczw3n",
        "outputId": "68469d78-f5b8-431b-895b-a17b6c14e181"
      },
      "execution_count": 10,
      "outputs": [
        {
          "output_type": "execute_result",
          "data": {
            "text/plain": [
              "<matplotlib.axes._subplots.AxesSubplot at 0x7f0325159b50>"
            ]
          },
          "metadata": {},
          "execution_count": 10
        },
        {
          "output_type": "display_data",
          "data": {
            "text/plain": [
              "<Figure size 432x288 with 2 Axes>"
            ],
            "image/png": "[encoded data removed]"
          },
          "metadata": {
            "needs_background": "light"
          }
        }
      ]
    },
    {
      "cell_type": "code",
      "source": [
        "### Check data type dari data scoring\n",
        "\n",
        "data_scoring_cadangan.dtypes"
      ],
      "metadata": {
        "colab": {
          "base_uri": "https://localhost:8080/"
        },
        "id": "O2TXQ8lC_YhH",
        "outputId": "83838156-4321-496b-fd17-503ba43a39d2"
      },
      "execution_count": 11,
      "outputs": [
        {
          "output_type": "execute_result",
          "data": {
            "text/plain": [
              "User_ID                       int64\n",
              "Gender                       object\n",
              "Age                           int64\n",
              "Marital_Status               object\n",
              "Website_Activity             object\n",
              "Browsed_Electronics_12Mo     object\n",
              "Bought_Electronics_12Mo      object\n",
              "Bought_Digital_Media_18Mo    object\n",
              "Bought_Digital_Books         object\n",
              "Payment_Method               object\n",
              "dtype: object"
            ]
          },
          "metadata": {},
          "execution_count": 11
        }
      ]
    },
    {
      "cell_type": "markdown",
      "source": [
        "### 2.3 Describing data\n",
        "  Berisikan penjelasan mengenai suatu features pada dataset"
      ],
      "metadata": {
        "id": "bsZCdacap3S9"
      }
    },
    {
      "cell_type": "code",
      "source": [
        "data_scoring_cadangan.describe()"
      ],
      "metadata": {
        "colab": {
          "base_uri": "https://localhost:8080/",
          "height": 300
        },
        "id": "xgNVsa9eAvyt",
        "outputId": "2f70c548-47dc-4585-86e9-44897e3f7b35"
      },
      "execution_count": 12,
      "outputs": [
        {
          "output_type": "execute_result",
          "data": {
            "text/plain": [
              "            User_ID         Age\n",
              "count    473.000000  473.000000\n",
              "mean   54647.073996   45.972516\n",
              "std    25954.408115   13.385313\n",
              "min    10153.000000   17.000000\n",
              "25%    30952.000000   35.000000\n",
              "50%    55075.000000   47.000000\n",
              "75%    77373.000000   56.000000\n",
              "max    99694.000000   70.000000"
            ],
            "text/html": [
              "\n",
              "  <div id=\"df-c2b8c78d-c829-49fb-8001-0cfdd013b71a\">\n",
              "    <div class=\"colab-df-container\">\n",
              "      <div>\n",
              "<style scoped>\n",
              "    .dataframe tbody tr th:only-of-type {\n",
              "        vertical-align: middle;\n",
              "    }\n",
              "\n",
              "    .dataframe tbody tr th {\n",
              "        vertical-align: top;\n",
              "    }\n",
              "\n",
              "    .dataframe thead th {\n",
              "        text-align: right;\n",
              "    }\n",
              "</style>\n",
              "<table border=\"1\" class=\"dataframe\">\n",
              "  <thead>\n",
              "    <tr style=\"text-align: right;\">\n",
              "      <th></th>\n",
              "      <th>User_ID</th>\n",
              "      <th>Age</th>\n",
              "    </tr>\n",
              "  </thead>\n",
              "  <tbody>\n",
              "    <tr>\n",
              "      <th>count</th>\n",
              "      <td>473.000000</td>\n",
              "      <td>473.000000</td>\n",
              "    </tr>\n",
              "    <tr>\n",
              "      <th>mean</th>\n",
              "      <td>54647.073996</td>\n",
              "      <td>45.972516</td>\n",
              "    </tr>\n",
              "    <tr>\n",
              "      <th>std</th>\n",
              "      <td>25954.408115</td>\n",
              "      <td>13.385313</td>\n",
              "    </tr>\n",
              "    <tr>\n",
              "      <th>min</th>\n",
              "      <td>10153.000000</td>\n",
              "      <td>17.000000</td>\n",
              "    </tr>\n",
              "    <tr>\n",
              "      <th>25%</th>\n",
              "      <td>30952.000000</td>\n",
              "      <td>35.000000</td>\n",
              "    </tr>\n",
              "    <tr>\n",
              "      <th>50%</th>\n",
              "      <td>55075.000000</td>\n",
              "      <td>47.000000</td>\n",
              "    </tr>\n",
              "    <tr>\n",
              "      <th>75%</th>\n",
              "      <td>77373.000000</td>\n",
              "      <td>56.000000</td>\n",
              "    </tr>\n",
              "    <tr>\n",
              "      <th>max</th>\n",
              "      <td>99694.000000</td>\n",
              "      <td>70.000000</td>\n",
              "    </tr>\n",
              "  </tbody>\n",
              "</table>\n",
              "</div>\n",
              "      <button class=\"colab-df-convert\" onclick=\"convertToInteractive('df-c2b8c78d-c829-49fb-8001-0cfdd013b71a')\"\n",
              "              title=\"Convert this dataframe to an interactive table.\"\n",
              "              style=\"display:none;\">\n",
              "        \n",
              "  <svg xmlns=\"http://www.w3.org/2000/svg\" height=\"24px\"viewBox=\"0 0 24 24\"\n",
              "       width=\"24px\">\n",
              "    <path d=\"M0 0h24v24H0V0z\" fill=\"none\"/>\n",
              "    <path d=\"M18.56 5.44l.94 2.06.94-2.06 2.06-.94-2.06-.94-.94-2.06-.94 2.06-2.06.94zm-11 1L8.5 8.5l.94-2.06 2.06-.94-2.06-.94L8.5 2.5l-.94 2.06-2.06.94zm10 10l.94 2.06.94-2.06 2.06-.94-2.06-.94-.94-2.06-.94 2.06-2.06.94z\"/><path d=\"M17.41 7.96l-1.37-1.37c-.4-.4-.92-.59-1.43-.59-.52 0-1.04.2-1.43.59L10.3 9.45l-7.72 7.72c-.78.78-.78 2.05 0 2.83L4 21.41c.39.39.9.59 1.41.59.51 0 1.02-.2 1.41-.59l7.78-7.78 2.81-2.81c.8-.78.8-2.07 0-2.86zM5.41 20L4 18.59l7.72-7.72 1.47 1.35L5.41 20z\"/>\n",
              "  </svg>\n",
              "      </button>\n",
              "      \n",
              "  <style>\n",
              "    .colab-df-container {\n",
              "      display:flex;\n",
              "      flex-wrap:wrap;\n",
              "      gap: 12px;\n",
              "    }\n",
              "\n",
              "    .colab-df-convert {\n",
              "      background-color: #E8F0FE;\n",
              "      border: none;\n",
              "      border-radius: 50%;\n",
              "      cursor: pointer;\n",
              "      display: none;\n",
              "      fill: #1967D2;\n",
              "      height: 32px;\n",
              "      padding: 0 0 0 0;\n",
              "      width: 32px;\n",
              "    }\n",
              "\n",
              "    .colab-df-convert:hover {\n",
              "      background-color: #E2EBFA;\n",
              "      box-shadow: 0px 1px 2px rgba(60, 64, 67, 0.3), 0px 1px 3px 1px rgba(60, 64, 67, 0.15);\n",
              "      fill: #174EA6;\n",
              "    }\n",
              "\n",
              "    [theme=dark] .colab-df-convert {\n",
              "      background-color: #3B4455;\n",
              "      fill: #D2E3FC;\n",
              "    }\n",
              "\n",
              "    [theme=dark] .colab-df-convert:hover {\n",
              "      background-color: #434B5C;\n",
              "      box-shadow: 0px 1px 3px 1px rgba(0, 0, 0, 0.15);\n",
              "      filter: drop-shadow(0px 1px 2px rgba(0, 0, 0, 0.3));\n",
              "      fill: #FFFFFF;\n",
              "    }\n",
              "  </style>\n",
              "\n",
              "      <script>\n",
              "        const buttonEl =\n",
              "          document.querySelector('#df-c2b8c78d-c829-49fb-8001-0cfdd013b71a button.colab-df-convert');\n",
              "        buttonEl.style.display =\n",
              "          google.colab.kernel.accessAllowed ? 'block' : 'none';\n",
              "\n",
              "        async function convertToInteractive(key) {\n",
              "          const element = document.querySelector('#df-c2b8c78d-c829-49fb-8001-0cfdd013b71a');\n",
              "          const dataTable =\n",
              "            await google.colab.kernel.invokeFunction('convertToInteractive',\n",
              "                                                     [key], {});\n",
              "          if (!dataTable) return;\n",
              "\n",
              "          const docLinkHtml = 'Like what you see? Visit the ' +\n",
              "            '<a target=\"_blank\" href=https://colab.research.google.com/notebooks/data_table.ipynb>data table notebook</a>'\n",
              "            + ' to learn more about interactive tables.';\n",
              "          element.innerHTML = '';\n",
              "          dataTable['output_type'] = 'display_data';\n",
              "          await google.colab.output.renderOutput(dataTable, element);\n",
              "          const docLink = document.createElement('div');\n",
              "          docLink.innerHTML = docLinkHtml;\n",
              "          element.appendChild(docLink);\n",
              "        }\n",
              "      </script>\n",
              "    </div>\n",
              "  </div>\n",
              "  "
            ]
          },
          "metadata": {},
          "execution_count": 12
        }
      ]
    },
    {
      "cell_type": "code",
      "source": [
        "data_cadangan_training.describe()"
      ],
      "metadata": {
        "colab": {
          "base_uri": "https://localhost:8080/",
          "height": 300
        },
        "id": "fkol9u0vqAVz",
        "outputId": "b36747c5-3dfe-4b6e-9df5-9b09ff083d38"
      },
      "execution_count": 13,
      "outputs": [
        {
          "output_type": "execute_result",
          "data": {
            "text/plain": [
              "           User_ID         Age\n",
              "count   661.000000  661.000000\n",
              "mean   5638.187595   42.794251\n",
              "std    2635.212803   13.861983\n",
              "min    1003.000000   16.000000\n",
              "25%    3377.000000   32.000000\n",
              "50%    5758.000000   44.000000\n",
              "75%    8009.000000   55.000000\n",
              "max    9982.000000   66.000000"
            ],
            "text/html": [
              "\n",
              "  <div id=\"df-596d0819-2f48-4a3d-854a-b046ce480dd8\">\n",
              "    <div class=\"colab-df-container\">\n",
              "      <div>\n",
              "<style scoped>\n",
              "    .dataframe tbody tr th:only-of-type {\n",
              "        vertical-align: middle;\n",
              "    }\n",
              "\n",
              "    .dataframe tbody tr th {\n",
              "        vertical-align: top;\n",
              "    }\n",
              "\n",
              "    .dataframe thead th {\n",
              "        text-align: right;\n",
              "    }\n",
              "</style>\n",
              "<table border=\"1\" class=\"dataframe\">\n",
              "  <thead>\n",
              "    <tr style=\"text-align: right;\">\n",
              "      <th></th>\n",
              "      <th>User_ID</th>\n",
              "      <th>Age</th>\n",
              "    </tr>\n",
              "  </thead>\n",
              "  <tbody>\n",
              "    <tr>\n",
              "      <th>count</th>\n",
              "      <td>661.000000</td>\n",
              "      <td>661.000000</td>\n",
              "    </tr>\n",
              "    <tr>\n",
              "      <th>mean</th>\n",
              "      <td>5638.187595</td>\n",
              "      <td>42.794251</td>\n",
              "    </tr>\n",
              "    <tr>\n",
              "      <th>std</th>\n",
              "      <td>2635.212803</td>\n",
              "      <td>13.861983</td>\n",
              "    </tr>\n",
              "    <tr>\n",
              "      <th>min</th>\n",
              "      <td>1003.000000</td>\n",
              "      <td>16.000000</td>\n",
              "    </tr>\n",
              "    <tr>\n",
              "      <th>25%</th>\n",
              "      <td>3377.000000</td>\n",
              "      <td>32.000000</td>\n",
              "    </tr>\n",
              "    <tr>\n",
              "      <th>50%</th>\n",
              "      <td>5758.000000</td>\n",
              "      <td>44.000000</td>\n",
              "    </tr>\n",
              "    <tr>\n",
              "      <th>75%</th>\n",
              "      <td>8009.000000</td>\n",
              "      <td>55.000000</td>\n",
              "    </tr>\n",
              "    <tr>\n",
              "      <th>max</th>\n",
              "      <td>9982.000000</td>\n",
              "      <td>66.000000</td>\n",
              "    </tr>\n",
              "  </tbody>\n",
              "</table>\n",
              "</div>\n",
              "      <button class=\"colab-df-convert\" onclick=\"convertToInteractive('df-596d0819-2f48-4a3d-854a-b046ce480dd8')\"\n",
              "              title=\"Convert this dataframe to an interactive table.\"\n",
              "              style=\"display:none;\">\n",
              "        \n",
              "  <svg xmlns=\"http://www.w3.org/2000/svg\" height=\"24px\"viewBox=\"0 0 24 24\"\n",
              "       width=\"24px\">\n",
              "    <path d=\"M0 0h24v24H0V0z\" fill=\"none\"/>\n",
              "    <path d=\"M18.56 5.44l.94 2.06.94-2.06 2.06-.94-2.06-.94-.94-2.06-.94 2.06-2.06.94zm-11 1L8.5 8.5l.94-2.06 2.06-.94-2.06-.94L8.5 2.5l-.94 2.06-2.06.94zm10 10l.94 2.06.94-2.06 2.06-.94-2.06-.94-.94-2.06-.94 2.06-2.06.94z\"/><path d=\"M17.41 7.96l-1.37-1.37c-.4-.4-.92-.59-1.43-.59-.52 0-1.04.2-1.43.59L10.3 9.45l-7.72 7.72c-.78.78-.78 2.05 0 2.83L4 21.41c.39.39.9.59 1.41.59.51 0 1.02-.2 1.41-.59l7.78-7.78 2.81-2.81c.8-.78.8-2.07 0-2.86zM5.41 20L4 18.59l7.72-7.72 1.47 1.35L5.41 20z\"/>\n",
              "  </svg>\n",
              "      </button>\n",
              "      \n",
              "  <style>\n",
              "    .colab-df-container {\n",
              "      display:flex;\n",
              "      flex-wrap:wrap;\n",
              "      gap: 12px;\n",
              "    }\n",
              "\n",
              "    .colab-df-convert {\n",
              "      background-color: #E8F0FE;\n",
              "      border: none;\n",
              "      border-radius: 50%;\n",
              "      cursor: pointer;\n",
              "      display: none;\n",
              "      fill: #1967D2;\n",
              "      height: 32px;\n",
              "      padding: 0 0 0 0;\n",
              "      width: 32px;\n",
              "    }\n",
              "\n",
              "    .colab-df-convert:hover {\n",
              "      background-color: #E2EBFA;\n",
              "      box-shadow: 0px 1px 2px rgba(60, 64, 67, 0.3), 0px 1px 3px 1px rgba(60, 64, 67, 0.15);\n",
              "      fill: #174EA6;\n",
              "    }\n",
              "\n",
              "    [theme=dark] .colab-df-convert {\n",
              "      background-color: #3B4455;\n",
              "      fill: #D2E3FC;\n",
              "    }\n",
              "\n",
              "    [theme=dark] .colab-df-convert:hover {\n",
              "      background-color: #434B5C;\n",
              "      box-shadow: 0px 1px 3px 1px rgba(0, 0, 0, 0.15);\n",
              "      filter: drop-shadow(0px 1px 2px rgba(0, 0, 0, 0.3));\n",
              "      fill: #FFFFFF;\n",
              "    }\n",
              "  </style>\n",
              "\n",
              "      <script>\n",
              "        const buttonEl =\n",
              "          document.querySelector('#df-596d0819-2f48-4a3d-854a-b046ce480dd8 button.colab-df-convert');\n",
              "        buttonEl.style.display =\n",
              "          google.colab.kernel.accessAllowed ? 'block' : 'none';\n",
              "\n",
              "        async function convertToInteractive(key) {\n",
              "          const element = document.querySelector('#df-596d0819-2f48-4a3d-854a-b046ce480dd8');\n",
              "          const dataTable =\n",
              "            await google.colab.kernel.invokeFunction('convertToInteractive',\n",
              "                                                     [key], {});\n",
              "          if (!dataTable) return;\n",
              "\n",
              "          const docLinkHtml = 'Like what you see? Visit the ' +\n",
              "            '<a target=\"_blank\" href=https://colab.research.google.com/notebooks/data_table.ipynb>data table notebook</a>'\n",
              "            + ' to learn more about interactive tables.';\n",
              "          element.innerHTML = '';\n",
              "          dataTable['output_type'] = 'display_data';\n",
              "          await google.colab.output.renderOutput(dataTable, element);\n",
              "          const docLink = document.createElement('div');\n",
              "          docLink.innerHTML = docLinkHtml;\n",
              "          element.appendChild(docLink);\n",
              "        }\n",
              "      </script>\n",
              "    </div>\n",
              "  </div>\n",
              "  "
            ]
          },
          "metadata": {},
          "execution_count": 13
        }
      ]
    },
    {
      "cell_type": "markdown",
      "source": [
        "##3. Data Preparation"
      ],
      "metadata": {
        "id": "4RgcprS-7ksn"
      }
    },
    {
      "cell_type": "markdown",
      "source": [
        "### 3.1 Check Missing Values(Data Scoring)\n",
        "  Melihat Apakah terdapat value yang hilang pada data scroring"
      ],
      "metadata": {
        "id": "cD6ZTBjgOy6_"
      }
    },
    {
      "cell_type": "code",
      "source": [
        "data = pd.DataFrame(data_scoring, columns = data_scoring.columns)\n",
        "dataObj = pd.DataFrame({'No': ['1', '2', '3', '4', '5', '6', '7', '8', '9', '10'],\n",
        "                      'Nama Attribute' : data_scoring.columns,\n",
        "                      'Jumlah Missing Values' : data.isnull().sum()\n",
        "                      })\n",
        "\n",
        "printData = dataObj.style.set_table_styles([dict(selector='th', props=[('text-align', 'left')])])\n",
        "printData.set_properties(**{'text-align': 'left'}).hide_index()"
      ],
      "metadata": {
        "id": "ozgToeHoBP1-",
        "colab": {
          "base_uri": "https://localhost:8080/",
          "height": 363
        },
        "outputId": "f10f082b-ce94-498e-90ea-9d81bc9f8bc2"
      },
      "execution_count": 14,
      "outputs": [
        {
          "output_type": "execute_result",
          "data": {
            "text/plain": [
              "<pandas.io.formats.style.Styler at 0x7f0322411750>"
            ],
            "text/html": [
              "<style type=\"text/css\">\n",
              "#T_8ecf7_ th {\n",
              "  text-align: left;\n",
              "}\n",
              "#T_8ecf7_row0_col0, #T_8ecf7_row0_col1, #T_8ecf7_row0_col2, #T_8ecf7_row1_col0, #T_8ecf7_row1_col1, #T_8ecf7_row1_col2, #T_8ecf7_row2_col0, #T_8ecf7_row2_col1, #T_8ecf7_row2_col2, #T_8ecf7_row3_col0, #T_8ecf7_row3_col1, #T_8ecf7_row3_col2, #T_8ecf7_row4_col0, #T_8ecf7_row4_col1, #T_8ecf7_row4_col2, #T_8ecf7_row5_col0, #T_8ecf7_row5_col1, #T_8ecf7_row5_col2, #T_8ecf7_row6_col0, #T_8ecf7_row6_col1, #T_8ecf7_row6_col2, #T_8ecf7_row7_col0, #T_8ecf7_row7_col1, #T_8ecf7_row7_col2, #T_8ecf7_row8_col0, #T_8ecf7_row8_col1, #T_8ecf7_row8_col2, #T_8ecf7_row9_col0, #T_8ecf7_row9_col1, #T_8ecf7_row9_col2 {\n",
              "  text-align: left;\n",
              "}\n",
              "</style>\n",
              "<table id=\"T_8ecf7_\" class=\"dataframe\">\n",
              "  <thead>\n",
              "    <tr>\n",
              "      <th class=\"col_heading level0 col0\" >No</th>\n",
              "      <th class=\"col_heading level0 col1\" >Nama Attribute</th>\n",
              "      <th class=\"col_heading level0 col2\" >Jumlah Missing Values</th>\n",
              "    </tr>\n",
              "  </thead>\n",
              "  <tbody>\n",
              "    <tr>\n",
              "      <td id=\"T_8ecf7_row0_col0\" class=\"data row0 col0\" >1</td>\n",
              "      <td id=\"T_8ecf7_row0_col1\" class=\"data row0 col1\" >User_ID</td>\n",
              "      <td id=\"T_8ecf7_row0_col2\" class=\"data row0 col2\" >0</td>\n",
              "    </tr>\n",
              "    <tr>\n",
              "      <td id=\"T_8ecf7_row1_col0\" class=\"data row1 col0\" >2</td>\n",
              "      <td id=\"T_8ecf7_row1_col1\" class=\"data row1 col1\" >Gender</td>\n",
              "      <td id=\"T_8ecf7_row1_col2\" class=\"data row1 col2\" >0</td>\n",
              "    </tr>\n",
              "    <tr>\n",
              "      <td id=\"T_8ecf7_row2_col0\" class=\"data row2 col0\" >3</td>\n",
              "      <td id=\"T_8ecf7_row2_col1\" class=\"data row2 col1\" >Age</td>\n",
              "      <td id=\"T_8ecf7_row2_col2\" class=\"data row2 col2\" >0</td>\n",
              "    </tr>\n",
              "    <tr>\n",
              "      <td id=\"T_8ecf7_row3_col0\" class=\"data row3 col0\" >4</td>\n",
              "      <td id=\"T_8ecf7_row3_col1\" class=\"data row3 col1\" >Marital_Status</td>\n",
              "      <td id=\"T_8ecf7_row3_col2\" class=\"data row3 col2\" >0</td>\n",
              "    </tr>\n",
              "    <tr>\n",
              "      <td id=\"T_8ecf7_row4_col0\" class=\"data row4 col0\" >5</td>\n",
              "      <td id=\"T_8ecf7_row4_col1\" class=\"data row4 col1\" >Website_Activity</td>\n",
              "      <td id=\"T_8ecf7_row4_col2\" class=\"data row4 col2\" >0</td>\n",
              "    </tr>\n",
              "    <tr>\n",
              "      <td id=\"T_8ecf7_row5_col0\" class=\"data row5 col0\" >6</td>\n",
              "      <td id=\"T_8ecf7_row5_col1\" class=\"data row5 col1\" >Browsed_Electronics_12Mo</td>\n",
              "      <td id=\"T_8ecf7_row5_col2\" class=\"data row5 col2\" >0</td>\n",
              "    </tr>\n",
              "    <tr>\n",
              "      <td id=\"T_8ecf7_row6_col0\" class=\"data row6 col0\" >7</td>\n",
              "      <td id=\"T_8ecf7_row6_col1\" class=\"data row6 col1\" >Bought_Electronics_12Mo</td>\n",
              "      <td id=\"T_8ecf7_row6_col2\" class=\"data row6 col2\" >0</td>\n",
              "    </tr>\n",
              "    <tr>\n",
              "      <td id=\"T_8ecf7_row7_col0\" class=\"data row7 col0\" >8</td>\n",
              "      <td id=\"T_8ecf7_row7_col1\" class=\"data row7 col1\" >Bought_Digital_Media_18Mo</td>\n",
              "      <td id=\"T_8ecf7_row7_col2\" class=\"data row7 col2\" >0</td>\n",
              "    </tr>\n",
              "    <tr>\n",
              "      <td id=\"T_8ecf7_row8_col0\" class=\"data row8 col0\" >9</td>\n",
              "      <td id=\"T_8ecf7_row8_col1\" class=\"data row8 col1\" >Bought_Digital_Books</td>\n",
              "      <td id=\"T_8ecf7_row8_col2\" class=\"data row8 col2\" >0</td>\n",
              "    </tr>\n",
              "    <tr>\n",
              "      <td id=\"T_8ecf7_row9_col0\" class=\"data row9 col0\" >10</td>\n",
              "      <td id=\"T_8ecf7_row9_col1\" class=\"data row9 col1\" >Payment_Method</td>\n",
              "      <td id=\"T_8ecf7_row9_col2\" class=\"data row9 col2\" >0</td>\n",
              "    </tr>\n",
              "  </tbody>\n",
              "</table>\n"
            ]
          },
          "metadata": {},
          "execution_count": 14
        }
      ]
    },
    {
      "cell_type": "markdown",
      "source": [
        "### 3.2 Check Missing Value(Data Training)\n",
        "  Melihat Apakah terdapat value yang hilang pada data scroring"
      ],
      "metadata": {
        "id": "5S17cFxKO60L"
      }
    },
    {
      "cell_type": "code",
      "source": [
        "data = pd.DataFrame(data_training, columns = data_training.columns)\n",
        "dataObj = pd.DataFrame({'No': ['1', '2', '3', '4', '5', '6', '7', '8', '9', '10', '11'],\n",
        "                      'Nama Attribute' : data_training.columns,\n",
        "                      'Jumlah Missing Values' : data.isnull().sum()\n",
        "                      })\n",
        "\n",
        "printData = dataObj.style.set_table_styles([dict(selector='th', props=[('text-align', 'left')])])\n",
        "printData.set_properties(**{'text-align': 'left'}).hide_index()"
      ],
      "metadata": {
        "colab": {
          "base_uri": "https://localhost:8080/",
          "height": 394
        },
        "id": "8Gaa2PEqqe5V",
        "outputId": "21404ac5-46e6-44f8-d630-e6e4af8eefd0"
      },
      "execution_count": 15,
      "outputs": [
        {
          "output_type": "execute_result",
          "data": {
            "text/plain": [
              "<pandas.io.formats.style.Styler at 0x7f03220ced10>"
            ],
            "text/html": [
              "<style type=\"text/css\">\n",
              "#T_704df_ th {\n",
              "  text-align: left;\n",
              "}\n",
              "#T_704df_row0_col0, #T_704df_row0_col1, #T_704df_row0_col2, #T_704df_row1_col0, #T_704df_row1_col1, #T_704df_row1_col2, #T_704df_row2_col0, #T_704df_row2_col1, #T_704df_row2_col2, #T_704df_row3_col0, #T_704df_row3_col1, #T_704df_row3_col2, #T_704df_row4_col0, #T_704df_row4_col1, #T_704df_row4_col2, #T_704df_row5_col0, #T_704df_row5_col1, #T_704df_row5_col2, #T_704df_row6_col0, #T_704df_row6_col1, #T_704df_row6_col2, #T_704df_row7_col0, #T_704df_row7_col1, #T_704df_row7_col2, #T_704df_row8_col0, #T_704df_row8_col1, #T_704df_row8_col2, #T_704df_row9_col0, #T_704df_row9_col1, #T_704df_row9_col2, #T_704df_row10_col0, #T_704df_row10_col1, #T_704df_row10_col2 {\n",
              "  text-align: left;\n",
              "}\n",
              "</style>\n",
              "<table id=\"T_704df_\" class=\"dataframe\">\n",
              "  <thead>\n",
              "    <tr>\n",
              "      <th class=\"col_heading level0 col0\" >No</th>\n",
              "      <th class=\"col_heading level0 col1\" >Nama Attribute</th>\n",
              "      <th class=\"col_heading level0 col2\" >Jumlah Missing Values</th>\n",
              "    </tr>\n",
              "  </thead>\n",
              "  <tbody>\n",
              "    <tr>\n",
              "      <td id=\"T_704df_row0_col0\" class=\"data row0 col0\" >1</td>\n",
              "      <td id=\"T_704df_row0_col1\" class=\"data row0 col1\" >User_ID</td>\n",
              "      <td id=\"T_704df_row0_col2\" class=\"data row0 col2\" >0</td>\n",
              "    </tr>\n",
              "    <tr>\n",
              "      <td id=\"T_704df_row1_col0\" class=\"data row1 col0\" >2</td>\n",
              "      <td id=\"T_704df_row1_col1\" class=\"data row1 col1\" >Gender</td>\n",
              "      <td id=\"T_704df_row1_col2\" class=\"data row1 col2\" >0</td>\n",
              "    </tr>\n",
              "    <tr>\n",
              "      <td id=\"T_704df_row2_col0\" class=\"data row2 col0\" >3</td>\n",
              "      <td id=\"T_704df_row2_col1\" class=\"data row2 col1\" >Age</td>\n",
              "      <td id=\"T_704df_row2_col2\" class=\"data row2 col2\" >0</td>\n",
              "    </tr>\n",
              "    <tr>\n",
              "      <td id=\"T_704df_row3_col0\" class=\"data row3 col0\" >4</td>\n",
              "      <td id=\"T_704df_row3_col1\" class=\"data row3 col1\" >Marital_Status</td>\n",
              "      <td id=\"T_704df_row3_col2\" class=\"data row3 col2\" >0</td>\n",
              "    </tr>\n",
              "    <tr>\n",
              "      <td id=\"T_704df_row4_col0\" class=\"data row4 col0\" >5</td>\n",
              "      <td id=\"T_704df_row4_col1\" class=\"data row4 col1\" >Website_Activity</td>\n",
              "      <td id=\"T_704df_row4_col2\" class=\"data row4 col2\" >0</td>\n",
              "    </tr>\n",
              "    <tr>\n",
              "      <td id=\"T_704df_row5_col0\" class=\"data row5 col0\" >6</td>\n",
              "      <td id=\"T_704df_row5_col1\" class=\"data row5 col1\" >Browsed_Electronics_12Mo</td>\n",
              "      <td id=\"T_704df_row5_col2\" class=\"data row5 col2\" >0</td>\n",
              "    </tr>\n",
              "    <tr>\n",
              "      <td id=\"T_704df_row6_col0\" class=\"data row6 col0\" >7</td>\n",
              "      <td id=\"T_704df_row6_col1\" class=\"data row6 col1\" >Bought_Electronics_12Mo</td>\n",
              "      <td id=\"T_704df_row6_col2\" class=\"data row6 col2\" >0</td>\n",
              "    </tr>\n",
              "    <tr>\n",
              "      <td id=\"T_704df_row7_col0\" class=\"data row7 col0\" >8</td>\n",
              "      <td id=\"T_704df_row7_col1\" class=\"data row7 col1\" >Bought_Digital_Media_18Mo</td>\n",
              "      <td id=\"T_704df_row7_col2\" class=\"data row7 col2\" >0</td>\n",
              "    </tr>\n",
              "    <tr>\n",
              "      <td id=\"T_704df_row8_col0\" class=\"data row8 col0\" >9</td>\n",
              "      <td id=\"T_704df_row8_col1\" class=\"data row8 col1\" >Bought_Digital_Books</td>\n",
              "      <td id=\"T_704df_row8_col2\" class=\"data row8 col2\" >0</td>\n",
              "    </tr>\n",
              "    <tr>\n",
              "      <td id=\"T_704df_row9_col0\" class=\"data row9 col0\" >10</td>\n",
              "      <td id=\"T_704df_row9_col1\" class=\"data row9 col1\" >Payment_Method</td>\n",
              "      <td id=\"T_704df_row9_col2\" class=\"data row9 col2\" >0</td>\n",
              "    </tr>\n",
              "    <tr>\n",
              "      <td id=\"T_704df_row10_col0\" class=\"data row10 col0\" >11</td>\n",
              "      <td id=\"T_704df_row10_col1\" class=\"data row10 col1\" >eReader_Adoption</td>\n",
              "      <td id=\"T_704df_row10_col2\" class=\"data row10 col2\" >0</td>\n",
              "    </tr>\n",
              "  </tbody>\n",
              "</table>\n"
            ]
          },
          "metadata": {},
          "execution_count": 15
        }
      ]
    },
    {
      "cell_type": "markdown",
      "source": [
        "### 3.3 Remove Outliers\n"
      ],
      "metadata": {
        "id": "tSqSmbgi5JG2"
      }
    },
    {
      "cell_type": "code",
      "source": [
        "data_training[\"Age\"] = data_training[\"Age\"].astype(float).astype('int64')"
      ],
      "metadata": {
        "id": "U47x3fOo5Leq"
      },
      "execution_count": 16,
      "outputs": []
    },
    {
      "cell_type": "code",
      "source": [
        "# fungsi mencari outliers\n",
        "def detect_outliers(df, x):\n",
        "    Q1 = df[x].describe()['25%']\n",
        "    Q3 = df[x].describe()['75%']\n",
        "    IQR = Q3-Q1\n",
        "    return df[(df[x] < Q1-1.5*IQR) | (df[x] > Q3+1.5*IQR)]"
      ],
      "metadata": {
        "id": "O0vjiAbx5StH"
      },
      "execution_count": 17,
      "outputs": []
    },
    {
      "cell_type": "code",
      "source": [
        "detect_outliers(data_training, 'Age')"
      ],
      "metadata": {
        "colab": {
          "base_uri": "https://localhost:8080/",
          "height": 113
        },
        "id": "KJhby--E5Wvq",
        "outputId": "3b96a69e-0af3-4e31-828f-8e14950ff661"
      },
      "execution_count": 18,
      "outputs": [
        {
          "output_type": "execute_result",
          "data": {
            "text/plain": [
              "Empty DataFrame\n",
              "Columns: [User_ID, Gender, Age, Marital_Status, Website_Activity, Browsed_Electronics_12Mo, Bought_Electronics_12Mo, Bought_Digital_Media_18Mo, Bought_Digital_Books, Payment_Method, eReader_Adoption]\n",
              "Index: []"
            ],
            "text/html": [
              "\n",
              "  <div id=\"df-a1e0c890-4b3d-401a-bd77-eb1c62c09dd7\">\n",
              "    <div class=\"colab-df-container\">\n",
              "      <div>\n",
              "<style scoped>\n",
              "    .dataframe tbody tr th:only-of-type {\n",
              "        vertical-align: middle;\n",
              "    }\n",
              "\n",
              "    .dataframe tbody tr th {\n",
              "        vertical-align: top;\n",
              "    }\n",
              "\n",
              "    .dataframe thead th {\n",
              "        text-align: right;\n",
              "    }\n",
              "</style>\n",
              "<table border=\"1\" class=\"dataframe\">\n",
              "  <thead>\n",
              "    <tr style=\"text-align: right;\">\n",
              "      <th></th>\n",
              "      <th>User_ID</th>\n",
              "      <th>Gender</th>\n",
              "      <th>Age</th>\n",
              "      <th>Marital_Status</th>\n",
              "      <th>Website_Activity</th>\n",
              "      <th>Browsed_Electronics_12Mo</th>\n",
              "      <th>Bought_Electronics_12Mo</th>\n",
              "      <th>Bought_Digital_Media_18Mo</th>\n",
              "      <th>Bought_Digital_Books</th>\n",
              "      <th>Payment_Method</th>\n",
              "      <th>eReader_Adoption</th>\n",
              "    </tr>\n",
              "  </thead>\n",
              "  <tbody>\n",
              "  </tbody>\n",
              "</table>\n",
              "</div>\n",
              "      <button class=\"colab-df-convert\" onclick=\"convertToInteractive('df-a1e0c890-4b3d-401a-bd77-eb1c62c09dd7')\"\n",
              "              title=\"Convert this dataframe to an interactive table.\"\n",
              "              style=\"display:none;\">\n",
              "        \n",
              "  <svg xmlns=\"http://www.w3.org/2000/svg\" height=\"24px\"viewBox=\"0 0 24 24\"\n",
              "       width=\"24px\">\n",
              "    <path d=\"M0 0h24v24H0V0z\" fill=\"none\"/>\n",
              "    <path d=\"M18.56 5.44l.94 2.06.94-2.06 2.06-.94-2.06-.94-.94-2.06-.94 2.06-2.06.94zm-11 1L8.5 8.5l.94-2.06 2.06-.94-2.06-.94L8.5 2.5l-.94 2.06-2.06.94zm10 10l.94 2.06.94-2.06 2.06-.94-2.06-.94-.94-2.06-.94 2.06-2.06.94z\"/><path d=\"M17.41 7.96l-1.37-1.37c-.4-.4-.92-.59-1.43-.59-.52 0-1.04.2-1.43.59L10.3 9.45l-7.72 7.72c-.78.78-.78 2.05 0 2.83L4 21.41c.39.39.9.59 1.41.59.51 0 1.02-.2 1.41-.59l7.78-7.78 2.81-2.81c.8-.78.8-2.07 0-2.86zM5.41 20L4 18.59l7.72-7.72 1.47 1.35L5.41 20z\"/>\n",
              "  </svg>\n",
              "      </button>\n",
              "      \n",
              "  <style>\n",
              "    .colab-df-container {\n",
              "      display:flex;\n",
              "      flex-wrap:wrap;\n",
              "      gap: 12px;\n",
              "    }\n",
              "\n",
              "    .colab-df-convert {\n",
              "      background-color: #E8F0FE;\n",
              "      border: none;\n",
              "      border-radius: 50%;\n",
              "      cursor: pointer;\n",
              "      display: none;\n",
              "      fill: #1967D2;\n",
              "      height: 32px;\n",
              "      padding: 0 0 0 0;\n",
              "      width: 32px;\n",
              "    }\n",
              "\n",
              "    .colab-df-convert:hover {\n",
              "      background-color: #E2EBFA;\n",
              "      box-shadow: 0px 1px 2px rgba(60, 64, 67, 0.3), 0px 1px 3px 1px rgba(60, 64, 67, 0.15);\n",
              "      fill: #174EA6;\n",
              "    }\n",
              "\n",
              "    [theme=dark] .colab-df-convert {\n",
              "      background-color: #3B4455;\n",
              "      fill: #D2E3FC;\n",
              "    }\n",
              "\n",
              "    [theme=dark] .colab-df-convert:hover {\n",
              "      background-color: #434B5C;\n",
              "      box-shadow: 0px 1px 3px 1px rgba(0, 0, 0, 0.15);\n",
              "      filter: drop-shadow(0px 1px 2px rgba(0, 0, 0, 0.3));\n",
              "      fill: #FFFFFF;\n",
              "    }\n",
              "  </style>\n",
              "\n",
              "      <script>\n",
              "        const buttonEl =\n",
              "          document.querySelector('#df-a1e0c890-4b3d-401a-bd77-eb1c62c09dd7 button.colab-df-convert');\n",
              "        buttonEl.style.display =\n",
              "          google.colab.kernel.accessAllowed ? 'block' : 'none';\n",
              "\n",
              "        async function convertToInteractive(key) {\n",
              "          const element = document.querySelector('#df-a1e0c890-4b3d-401a-bd77-eb1c62c09dd7');\n",
              "          const dataTable =\n",
              "            await google.colab.kernel.invokeFunction('convertToInteractive',\n",
              "                                                     [key], {});\n",
              "          if (!dataTable) return;\n",
              "\n",
              "          const docLinkHtml = 'Like what you see? Visit the ' +\n",
              "            '<a target=\"_blank\" href=https://colab.research.google.com/notebooks/data_table.ipynb>data table notebook</a>'\n",
              "            + ' to learn more about interactive tables.';\n",
              "          element.innerHTML = '';\n",
              "          dataTable['output_type'] = 'display_data';\n",
              "          await google.colab.output.renderOutput(dataTable, element);\n",
              "          const docLink = document.createElement('div');\n",
              "          docLink.innerHTML = docLinkHtml;\n",
              "          element.appendChild(docLink);\n",
              "        }\n",
              "      </script>\n",
              "    </div>\n",
              "  </div>\n",
              "  "
            ]
          },
          "metadata": {},
          "execution_count": 18
        }
      ]
    },
    {
      "cell_type": "markdown",
      "source": [
        "### 3.4 Convert data to int\n",
        " Merubah tipe data pada features menjadi numerik(ke int64) agar suatu data/features dapat dilakukan modeling "
      ],
      "metadata": {
        "id": "9Wv5uZa2PFJs"
      }
    },
    {
      "cell_type": "code",
      "source": [
        "change_data = {'No':0, 'Yes':1,\n",
        "               'F':0, 'M':1, 'S' : 0, \n",
        "               'Innovator':0, 'Early Adopter':1 , 'Early Majority' : 2, 'Late Majority' : 3,\n",
        "               'Seldom' : 0 , 'Regular':1 , 'Frequent':2\n",
        "              }\n",
        "change_data2 = {'No':0, 'Yes':1,\n",
        "               'F':0, 'M':1, 'S' : 0, \n",
        "               'Seldom' : 0 , 'Regular':1 , 'Frequent':2\n",
        "              }\n",
        "\n",
        "data_training = data_training.replace(change_data)\n",
        "data_scoring2 = data_scoring.copy().replace(change_data2)\n",
        "data_training\n"
      ],
      "metadata": {
        "colab": {
          "base_uri": "https://localhost:8080/",
          "height": 488
        },
        "id": "QP6kVKoXXXvX",
        "outputId": "6f05b1a4-1622-446a-983b-f47bb43daac7"
      },
      "execution_count": 19,
      "outputs": [
        {
          "output_type": "execute_result",
          "data": {
            "text/plain": [
              "     User_ID  Gender  Age  Marital_Status  Website_Activity  \\\n",
              "0       9552       1   61               1                 0   \n",
              "1       6757       1   27               1                 1   \n",
              "2       3599       0   29               1                 0   \n",
              "3       6811       1   49               1                 0   \n",
              "4       4104       1   29               0                 0   \n",
              "..       ...     ...  ...             ...               ...   \n",
              "656     8450       1   48               0                 2   \n",
              "657     2048       0   32               1                 1   \n",
              "658     9630       0   26               1                 0   \n",
              "659     9982       0   55               0                 0   \n",
              "660     2542       1   57               0                 1   \n",
              "\n",
              "     Browsed_Electronics_12Mo  Bought_Electronics_12Mo  \\\n",
              "0                           1                        1   \n",
              "1                           1                        0   \n",
              "2                           1                        1   \n",
              "3                           1                        1   \n",
              "4                           1                        1   \n",
              "..                        ...                      ...   \n",
              "656                         1                        1   \n",
              "657                         1                        0   \n",
              "658                         1                        0   \n",
              "659                         1                        0   \n",
              "660                         0                        1   \n",
              "\n",
              "     Bought_Digital_Media_18Mo  Bought_Digital_Books   Payment_Method  \\\n",
              "0                            1                     0    Bank Transfer   \n",
              "1                            1                     0    Bank Transfer   \n",
              "2                            1                     1    Bank Transfer   \n",
              "3                            1                     1  Website Account   \n",
              "4                            1                     0  Website Account   \n",
              "..                         ...                   ...              ...   \n",
              "656                          1                     1  Website Account   \n",
              "657                          1                     0  Website Account   \n",
              "658                          1                     1  Website Account   \n",
              "659                          1                     0  Monthly Billing   \n",
              "660                          1                     1    Bank Transfer   \n",
              "\n",
              "     eReader_Adoption  \n",
              "0                   3  \n",
              "1                   0  \n",
              "2                   1  \n",
              "3                   1  \n",
              "4                   3  \n",
              "..                ...  \n",
              "656                 3  \n",
              "657                 1  \n",
              "658                 2  \n",
              "659                 1  \n",
              "660                 2  \n",
              "\n",
              "[661 rows x 11 columns]"
            ],
            "text/html": [
              "\n",
              "  <div id=\"df-dfb996b7-002a-4175-9a57-2813827d6fe4\">\n",
              "    <div class=\"colab-df-container\">\n",
              "      <div>\n",
              "<style scoped>\n",
              "    .dataframe tbody tr th:only-of-type {\n",
              "        vertical-align: middle;\n",
              "    }\n",
              "\n",
              "    .dataframe tbody tr th {\n",
              "        vertical-align: top;\n",
              "    }\n",
              "\n",
              "    .dataframe thead th {\n",
              "        text-align: right;\n",
              "    }\n",
              "</style>\n",
              "<table border=\"1\" class=\"dataframe\">\n",
              "  <thead>\n",
              "    <tr style=\"text-align: right;\">\n",
              "      <th></th>\n",
              "      <th>User_ID</th>\n",
              "      <th>Gender</th>\n",
              "      <th>Age</th>\n",
              "      <th>Marital_Status</th>\n",
              "      <th>Website_Activity</th>\n",
              "      <th>Browsed_Electronics_12Mo</th>\n",
              "      <th>Bought_Electronics_12Mo</th>\n",
              "      <th>Bought_Digital_Media_18Mo</th>\n",
              "      <th>Bought_Digital_Books</th>\n",
              "      <th>Payment_Method</th>\n",
              "      <th>eReader_Adoption</th>\n",
              "    </tr>\n",
              "  </thead>\n",
              "  <tbody>\n",
              "    <tr>\n",
              "      <th>0</th>\n",
              "      <td>9552</td>\n",
              "      <td>1</td>\n",
              "      <td>61</td>\n",
              "      <td>1</td>\n",
              "      <td>0</td>\n",
              "      <td>1</td>\n",
              "      <td>1</td>\n",
              "      <td>1</td>\n",
              "      <td>0</td>\n",
              "      <td>Bank Transfer</td>\n",
              "      <td>3</td>\n",
              "    </tr>\n",
              "    <tr>\n",
              "      <th>1</th>\n",
              "      <td>6757</td>\n",
              "      <td>1</td>\n",
              "      <td>27</td>\n",
              "      <td>1</td>\n",
              "      <td>1</td>\n",
              "      <td>1</td>\n",
              "      <td>0</td>\n",
              "      <td>1</td>\n",
              "      <td>0</td>\n",
              "      <td>Bank Transfer</td>\n",
              "      <td>0</td>\n",
              "    </tr>\n",
              "    <tr>\n",
              "      <th>2</th>\n",
              "      <td>3599</td>\n",
              "      <td>0</td>\n",
              "      <td>29</td>\n",
              "      <td>1</td>\n",
              "      <td>0</td>\n",
              "      <td>1</td>\n",
              "      <td>1</td>\n",
              "      <td>1</td>\n",
              "      <td>1</td>\n",
              "      <td>Bank Transfer</td>\n",
              "      <td>1</td>\n",
              "    </tr>\n",
              "    <tr>\n",
              "      <th>3</th>\n",
              "      <td>6811</td>\n",
              "      <td>1</td>\n",
              "      <td>49</td>\n",
              "      <td>1</td>\n",
              "      <td>0</td>\n",
              "      <td>1</td>\n",
              "      <td>1</td>\n",
              "      <td>1</td>\n",
              "      <td>1</td>\n",
              "      <td>Website Account</td>\n",
              "      <td>1</td>\n",
              "    </tr>\n",
              "    <tr>\n",
              "      <th>4</th>\n",
              "      <td>4104</td>\n",
              "      <td>1</td>\n",
              "      <td>29</td>\n",
              "      <td>0</td>\n",
              "      <td>0</td>\n",
              "      <td>1</td>\n",
              "      <td>1</td>\n",
              "      <td>1</td>\n",
              "      <td>0</td>\n",
              "      <td>Website Account</td>\n",
              "      <td>3</td>\n",
              "    </tr>\n",
              "    <tr>\n",
              "      <th>...</th>\n",
              "      <td>...</td>\n",
              "      <td>...</td>\n",
              "      <td>...</td>\n",
              "      <td>...</td>\n",
              "      <td>...</td>\n",
              "      <td>...</td>\n",
              "      <td>...</td>\n",
              "      <td>...</td>\n",
              "      <td>...</td>\n",
              "      <td>...</td>\n",
              "      <td>...</td>\n",
              "    </tr>\n",
              "    <tr>\n",
              "      <th>656</th>\n",
              "      <td>8450</td>\n",
              "      <td>1</td>\n",
              "      <td>48</td>\n",
              "      <td>0</td>\n",
              "      <td>2</td>\n",
              "      <td>1</td>\n",
              "      <td>1</td>\n",
              "      <td>1</td>\n",
              "      <td>1</td>\n",
              "      <td>Website Account</td>\n",
              "      <td>3</td>\n",
              "    </tr>\n",
              "    <tr>\n",
              "      <th>657</th>\n",
              "      <td>2048</td>\n",
              "      <td>0</td>\n",
              "      <td>32</td>\n",
              "      <td>1</td>\n",
              "      <td>1</td>\n",
              "      <td>1</td>\n",
              "      <td>0</td>\n",
              "      <td>1</td>\n",
              "      <td>0</td>\n",
              "      <td>Website Account</td>\n",
              "      <td>1</td>\n",
              "    </tr>\n",
              "    <tr>\n",
              "      <th>658</th>\n",
              "      <td>9630</td>\n",
              "      <td>0</td>\n",
              "      <td>26</td>\n",
              "      <td>1</td>\n",
              "      <td>0</td>\n",
              "      <td>1</td>\n",
              "      <td>0</td>\n",
              "      <td>1</td>\n",
              "      <td>1</td>\n",
              "      <td>Website Account</td>\n",
              "      <td>2</td>\n",
              "    </tr>\n",
              "    <tr>\n",
              "      <th>659</th>\n",
              "      <td>9982</td>\n",
              "      <td>0</td>\n",
              "      <td>55</td>\n",
              "      <td>0</td>\n",
              "      <td>0</td>\n",
              "      <td>1</td>\n",
              "      <td>0</td>\n",
              "      <td>1</td>\n",
              "      <td>0</td>\n",
              "      <td>Monthly Billing</td>\n",
              "      <td>1</td>\n",
              "    </tr>\n",
              "    <tr>\n",
              "      <th>660</th>\n",
              "      <td>2542</td>\n",
              "      <td>1</td>\n",
              "      <td>57</td>\n",
              "      <td>0</td>\n",
              "      <td>1</td>\n",
              "      <td>0</td>\n",
              "      <td>1</td>\n",
              "      <td>1</td>\n",
              "      <td>1</td>\n",
              "      <td>Bank Transfer</td>\n",
              "      <td>2</td>\n",
              "    </tr>\n",
              "  </tbody>\n",
              "</table>\n",
              "<p>661 rows × 11 columns</p>\n",
              "</div>\n",
              "      <button class=\"colab-df-convert\" onclick=\"convertToInteractive('df-dfb996b7-002a-4175-9a57-2813827d6fe4')\"\n",
              "              title=\"Convert this dataframe to an interactive table.\"\n",
              "              style=\"display:none;\">\n",
              "        \n",
              "  <svg xmlns=\"http://www.w3.org/2000/svg\" height=\"24px\"viewBox=\"0 0 24 24\"\n",
              "       width=\"24px\">\n",
              "    <path d=\"M0 0h24v24H0V0z\" fill=\"none\"/>\n",
              "    <path d=\"M18.56 5.44l.94 2.06.94-2.06 2.06-.94-2.06-.94-.94-2.06-.94 2.06-2.06.94zm-11 1L8.5 8.5l.94-2.06 2.06-.94-2.06-.94L8.5 2.5l-.94 2.06-2.06.94zm10 10l.94 2.06.94-2.06 2.06-.94-2.06-.94-.94-2.06-.94 2.06-2.06.94z\"/><path d=\"M17.41 7.96l-1.37-1.37c-.4-.4-.92-.59-1.43-.59-.52 0-1.04.2-1.43.59L10.3 9.45l-7.72 7.72c-.78.78-.78 2.05 0 2.83L4 21.41c.39.39.9.59 1.41.59.51 0 1.02-.2 1.41-.59l7.78-7.78 2.81-2.81c.8-.78.8-2.07 0-2.86zM5.41 20L4 18.59l7.72-7.72 1.47 1.35L5.41 20z\"/>\n",
              "  </svg>\n",
              "      </button>\n",
              "      \n",
              "  <style>\n",
              "    .colab-df-container {\n",
              "      display:flex;\n",
              "      flex-wrap:wrap;\n",
              "      gap: 12px;\n",
              "    }\n",
              "\n",
              "    .colab-df-convert {\n",
              "      background-color: #E8F0FE;\n",
              "      border: none;\n",
              "      border-radius: 50%;\n",
              "      cursor: pointer;\n",
              "      display: none;\n",
              "      fill: #1967D2;\n",
              "      height: 32px;\n",
              "      padding: 0 0 0 0;\n",
              "      width: 32px;\n",
              "    }\n",
              "\n",
              "    .colab-df-convert:hover {\n",
              "      background-color: #E2EBFA;\n",
              "      box-shadow: 0px 1px 2px rgba(60, 64, 67, 0.3), 0px 1px 3px 1px rgba(60, 64, 67, 0.15);\n",
              "      fill: #174EA6;\n",
              "    }\n",
              "\n",
              "    [theme=dark] .colab-df-convert {\n",
              "      background-color: #3B4455;\n",
              "      fill: #D2E3FC;\n",
              "    }\n",
              "\n",
              "    [theme=dark] .colab-df-convert:hover {\n",
              "      background-color: #434B5C;\n",
              "      box-shadow: 0px 1px 3px 1px rgba(0, 0, 0, 0.15);\n",
              "      filter: drop-shadow(0px 1px 2px rgba(0, 0, 0, 0.3));\n",
              "      fill: #FFFFFF;\n",
              "    }\n",
              "  </style>\n",
              "\n",
              "      <script>\n",
              "        const buttonEl =\n",
              "          document.querySelector('#df-dfb996b7-002a-4175-9a57-2813827d6fe4 button.colab-df-convert');\n",
              "        buttonEl.style.display =\n",
              "          google.colab.kernel.accessAllowed ? 'block' : 'none';\n",
              "\n",
              "        async function convertToInteractive(key) {\n",
              "          const element = document.querySelector('#df-dfb996b7-002a-4175-9a57-2813827d6fe4');\n",
              "          const dataTable =\n",
              "            await google.colab.kernel.invokeFunction('convertToInteractive',\n",
              "                                                     [key], {});\n",
              "          if (!dataTable) return;\n",
              "\n",
              "          const docLinkHtml = 'Like what you see? Visit the ' +\n",
              "            '<a target=\"_blank\" href=https://colab.research.google.com/notebooks/data_table.ipynb>data table notebook</a>'\n",
              "            + ' to learn more about interactive tables.';\n",
              "          element.innerHTML = '';\n",
              "          dataTable['output_type'] = 'display_data';\n",
              "          await google.colab.output.renderOutput(dataTable, element);\n",
              "          const docLink = document.createElement('div');\n",
              "          docLink.innerHTML = docLinkHtml;\n",
              "          element.appendChild(docLink);\n",
              "        }\n",
              "      </script>\n",
              "    </div>\n",
              "  </div>\n",
              "  "
            ]
          },
          "metadata": {},
          "execution_count": 19
        }
      ]
    },
    {
      "cell_type": "markdown",
      "source": [
        "### 3.5 Remove Duplicate Data"
      ],
      "metadata": {
        "id": "Q0P14yDPr6Lw"
      }
    },
    {
      "cell_type": "code",
      "source": [
        "data_training = data_training.drop_duplicates()\n",
        "data_training.shape"
      ],
      "metadata": {
        "colab": {
          "base_uri": "https://localhost:8080/"
        },
        "id": "z76HwFdIr5XX",
        "outputId": "22974d2d-3ba9-4d5e-ef30-f969ec1253e5"
      },
      "execution_count": 20,
      "outputs": [
        {
          "output_type": "execute_result",
          "data": {
            "text/plain": [
              "(661, 11)"
            ]
          },
          "metadata": {},
          "execution_count": 20
        }
      ]
    },
    {
      "cell_type": "markdown",
      "source": [
        "### 3.6 Features Selection(Data Training & Data Scoring)\n",
        "Mempersempit features yang dibutuhkan saja. Hapus features yang tidak terlalu berpengaruh"
      ],
      "metadata": {
        "id": "5UBryyRM72Id"
      }
    },
    {
      "cell_type": "code",
      "source": [
        "X = data_training.drop([\"eReader_Adoption\", 'User_ID' , 'Age' , 'Gender' , 'Payment_Method'] , axis = 1)\n",
        "selected_features = ['Marital_Status' , 'Website_Activity' , 'Browsed_Electronics_12Mo' , 'Bought_Electronics_12Mo' , 'Bought_Digital_Media_18Mo' , 'Bought_Digital_Books']\n",
        "\n",
        "x2_test = data_scoring2.drop([ 'User_ID' , 'Age' , 'Gender' , 'Payment_Method'], axis = 1)\n",
        "y = data_training['eReader_Adoption']\n"
      ],
      "metadata": {
        "id": "n7ubOboto0zm"
      },
      "execution_count": 21,
      "outputs": []
    },
    {
      "cell_type": "markdown",
      "source": [
        "### 3.7 Normalize Data Training\n",
        " Melakukan normalisasi data"
      ],
      "metadata": {
        "id": "YiBnvZk48AUk"
      }
    },
    {
      "cell_type": "code",
      "source": [
        "\n",
        "min_max_scaler = preprocessing.MinMaxScaler();\n",
        "x_scaled = min_max_scaler.fit_transform(X)\n",
        "x_scaled\n",
        "normalized_data = pd.DataFrame(x_scaled, columns = selected_features)\n",
        "\n",
        "X = normalized_data\n",
        "X_train, X_test, y_train, y_test = train_test_split(X, y, test_size = 0.30, random_state=3)"
      ],
      "metadata": {
        "id": "yaPyn_X9kXGQ"
      },
      "execution_count": 22,
      "outputs": []
    },
    {
      "cell_type": "markdown",
      "source": [
        "## 4. Data Modeling(Decision Tree)\n",
        "    Process Modeling menggunakan Decision Tree"
      ],
      "metadata": {
        "id": "NIqF5Bah8Rit"
      }
    },
    {
      "cell_type": "code",
      "source": [
        "from sklearn.tree import DecisionTreeClassifier\n",
        "k_range = range(1, 100)\n",
        "scores = []\n",
        "for k in k_range:\n",
        "  dtree = DecisionTreeClassifier(criterion=\"entropy\", max_depth=3, random_state=101, max_features=None, min_samples_leaf=8)\n",
        "  dtree.fit(X_train, y_train)\n",
        "  y_pred = dtree.predict(X_test)\n",
        "  scores.append(metrics.accuracy_score(y_test, y_pred))"
      ],
      "metadata": {
        "id": "Cd410lyJxJCH"
      },
      "execution_count": 23,
      "outputs": []
    },
    {
      "cell_type": "markdown",
      "source": [
        "### 4.1 Plot dari Fitting Model Menggunakan Decision Tree\n",
        "    Menampilkan visualisasi dari fitting model yang dilakukan pada cell sebelumnya"
      ],
      "metadata": {
        "id": "0_tVQASTyJtm"
      }
    },
    {
      "cell_type": "code",
      "source": [
        "%matplotlib inline\n",
        "plt.plot(k_range, scores)\n",
        "plt.xlabel('Range = ' + str(k))\n",
        "plt.ylabel('Akurasi')"
      ],
      "metadata": {
        "colab": {
          "base_uri": "https://localhost:8080/",
          "height": 296
        },
        "id": "aP7ulD1oxVFK",
        "outputId": "170a5a4e-0f62-4397-96af-db0d60e709f6"
      },
      "execution_count": 24,
      "outputs": [
        {
          "output_type": "execute_result",
          "data": {
            "text/plain": [
              "Text(0, 0.5, 'Akurasi')"
            ]
          },
          "metadata": {},
          "execution_count": 24
        },
        {
          "output_type": "display_data",
          "data": {
            "text/plain": [
              "<Figure size 432x288 with 1 Axes>"
            ],
            "image/png": "[encoded data removed]"
          },
          "metadata": {
            "needs_background": "light"
          }
        }
      ]
    },
    {
      "cell_type": "markdown",
      "source": [
        "### 4.2 Plot Tree(Decision Tree)\n",
        "    Menampilkan plot dari data yang di training "
      ],
      "metadata": {
        "id": "Zy-WaKmsyR3k"
      }
    },
    {
      "cell_type": "code",
      "source": [
        "plt.figure(figsize=(30,18))\n",
        "\n",
        "from sklearn import tree\n",
        "\n",
        "tree.plot_tree(dtree.fit(X_train, y_train)) "
      ],
      "metadata": {
        "colab": {
          "base_uri": "https://localhost:8080/",
          "height": 958
        },
        "id": "EL6BKiXGx_Yw",
        "outputId": "75a2efa0-74cf-440a-b8fd-60649307dec5"
      },
      "execution_count": 25,
      "outputs": [
        {
          "output_type": "execute_result",
          "data": {
            "text/plain": [
              "[Text(0.5, 0.875, 'X[1] <= 0.25\\nentropy = 1.958\\nsamples = 462\\nvalue = [73, 132, 144, 113]'),\n",
              " Text(0.25, 0.625, 'X[5] <= 0.5\\nentropy = 1.769\\nsamples = 296\\nvalue = [15, 69, 106, 106]'),\n",
              " Text(0.125, 0.375, 'X[3] <= 0.5\\nentropy = 1.266\\nsamples = 154\\nvalue = [5, 4, 52, 93]'),\n",
              " Text(0.0625, 0.125, 'entropy = 1.389\\nsamples = 79\\nvalue = [3, 4, 27, 45]'),\n",
              " Text(0.1875, 0.125, 'entropy = 1.08\\nsamples = 75\\nvalue = [2, 0, 25, 48]'),\n",
              " Text(0.375, 0.375, 'X[4] <= 0.5\\nentropy = 1.632\\nsamples = 142\\nvalue = [10, 65, 54, 13]'),\n",
              " Text(0.3125, 0.125, 'entropy = 1.523\\nsamples = 19\\nvalue = [2, 12, 3, 2]'),\n",
              " Text(0.4375, 0.125, 'entropy = 1.618\\nsamples = 123\\nvalue = [8, 53, 51, 11]'),\n",
              " Text(0.75, 0.625, 'X[5] <= 0.5\\nentropy = 1.74\\nsamples = 166\\nvalue = [58, 63, 38, 7]'),\n",
              " Text(0.625, 0.375, 'X[2] <= 0.5\\nentropy = 1.703\\nsamples = 99\\nvalue = [21, 44, 30, 4]'),\n",
              " Text(0.5625, 0.125, 'entropy = 0.954\\nsamples = 8\\nvalue = [0, 3, 5, 0]'),\n",
              " Text(0.6875, 0.125, 'entropy = 1.717\\nsamples = 91\\nvalue = [21, 41, 25, 4]'),\n",
              " Text(0.875, 0.375, 'X[1] <= 0.75\\nentropy = 1.555\\nsamples = 67\\nvalue = [37, 19, 8, 3]'),\n",
              " Text(0.8125, 0.125, 'entropy = 1.565\\nsamples = 57\\nvalue = [29, 19, 7, 2]'),\n",
              " Text(0.9375, 0.125, 'entropy = 0.922\\nsamples = 10\\nvalue = [8, 0, 1, 1]')]"
            ]
          },
          "metadata": {},
          "execution_count": 25
        },
        {
          "output_type": "display_data",
          "data": {
            "text/plain": [
              "<Figure size 2160x1296 with 1 Axes>"
            ],
            "image/png": "[encoded data removed]"
          },
          "metadata": {
            "needs_background": "light"
          }
        }
      ]
    },
    {
      "cell_type": "code",
      "source": [
        "plt.figure(figsize=(30,18))\n",
        "\n",
        "from sklearn import tree\n",
        "\n",
        "tree.plot_tree(dtree.fit(X_test, y_test)) "
      ],
      "metadata": {
        "colab": {
          "base_uri": "https://localhost:8080/",
          "height": 958
        },
        "id": "d49MjDX7Etlw",
        "outputId": "d20474d7-4c5f-4233-f727-0f7d59298d7c"
      },
      "execution_count": 26,
      "outputs": [
        {
          "output_type": "execute_result",
          "data": {
            "text/plain": [
              "[Text(0.5, 0.875, 'X[5] <= 0.5\\nentropy = 1.9\\nsamples = 199\\nvalue = [25, 73, 42, 59]'),\n",
              " Text(0.25, 0.625, 'X[1] <= 0.25\\nentropy = 1.672\\nsamples = 111\\nvalue = [6, 27, 21, 57]'),\n",
              " Text(0.125, 0.375, 'X[3] <= 0.5\\nentropy = 1.079\\nsamples = 71\\nvalue = [0, 6, 13, 52]'),\n",
              " Text(0.0625, 0.125, 'entropy = 1.059\\nsamples = 36\\nvalue = [0, 5, 4, 27]'),\n",
              " Text(0.1875, 0.125, 'entropy = 0.997\\nsamples = 35\\nvalue = [0, 1, 9, 25]'),\n",
              " Text(0.375, 0.375, 'X[1] <= 0.75\\nentropy = 1.738\\nsamples = 40\\nvalue = [6, 21, 8, 5]'),\n",
              " Text(0.3125, 0.125, 'entropy = 1.728\\nsamples = 31\\nvalue = [3, 16, 7, 5]'),\n",
              " Text(0.4375, 0.125, 'entropy = 1.352\\nsamples = 9\\nvalue = [3, 5, 1, 0]'),\n",
              " Text(0.75, 0.625, 'X[1] <= 0.25\\nentropy = 1.584\\nsamples = 88\\nvalue = [19, 46, 21, 2]'),\n",
              " Text(0.625, 0.375, 'X[0] <= 0.5\\nentropy = 1.216\\nsamples = 57\\nvalue = [2, 36, 18, 1]'),\n",
              " Text(0.5625, 0.125, 'entropy = 0.964\\nsamples = 21\\nvalue = [0, 16, 4, 1]'),\n",
              " Text(0.6875, 0.125, 'entropy = 1.233\\nsamples = 36\\nvalue = [2, 20, 14, 0]'),\n",
              " Text(0.875, 0.375, 'X[4] <= 0.5\\nentropy = 1.488\\nsamples = 31\\nvalue = [17, 10, 3, 1]'),\n",
              " Text(0.8125, 0.125, 'entropy = 0.503\\nsamples = 9\\nvalue = [8, 0, 1, 0]'),\n",
              " Text(0.9375, 0.125, 'entropy = 1.562\\nsamples = 22\\nvalue = [9, 10, 2, 1]')]"
            ]
          },
          "metadata": {},
          "execution_count": 26
        },
        {
          "output_type": "display_data",
          "data": {
            "text/plain": [
              "<Figure size 2160x1296 with 1 Axes>"
            ],
            "image/png": "[encoded data removed]"
          },
          "metadata": {
            "needs_background": "light"
          }
        }
      ]
    },
    {
      "cell_type": "markdown",
      "source": [
        "## 5. Data Evaluation(Decision Tree)\n",
        " Melakukan evaluasi pada suatu dataset(training) berdasarkan hasil modeling sebelumnya menggunakan decision tree\n"
      ],
      "metadata": {
        "id": "7rqRLwRu8uqE"
      }
    },
    {
      "cell_type": "code",
      "source": [
        "    y_pred = dtree.predict(X_test)\n",
        "    y_pred\n",
        "    accuracy = accuracy_score(y_test, y_pred)\n",
        "    precision = precision_score(y_pred, y_test, pos_label='positive' ,average='micro')\n",
        "    recall = recall_score(y_pred, y_test ,pos_label='positive' , average='macro')\n",
        "    f1 = f1_score(y_pred, y_test,  pos_label='positive',average='micro')     \n",
        "    print(\"Accuracy Score Decision Tree =\", accuracy.round(2))\n",
        "    print(\"Precision = \", precision.round(3))\n",
        "    print(\"Recall = \", recall.round(3))\n",
        "    print(\"F1 = \", f1.round(3))    \n",
        "    mse = mean_squared_error(y_pred, y_test)\n",
        "    rmse = np.sqrt(mse)\n",
        "    r, _ = pearsonr(y_pred, y_test)\n",
        "    print(\"==========\")\n",
        "    print(\"Root Mean Squared Error (RMSE) = \" + str(rmse))\n",
        "    print(\"Pearson's Correlation Coefficient = \" + str(r))    \n",
        "    plt.scatter(y_test, y_pred)\n",
        "    plt.xlabel(\"Actual G3\")\n",
        "    plt.ylabel(\"Predicted G3\")\n",
        "    plt.axis([0, 20, 0, 20])\n",
        "    plt.show()"
      ],
      "metadata": {
        "id": "f6y7LxhU3Mbo",
        "colab": {
          "base_uri": "https://localhost:8080/",
          "height": 563
        },
        "outputId": "dc764d55-dba6-40cf-952c-a4b64d2351a6"
      },
      "execution_count": 27,
      "outputs": [
        {
          "output_type": "stream",
          "name": "stderr",
          "text": [
            "/usr/local/lib/python3.7/dist-packages/sklearn/metrics/_classification.py:1375: UserWarning: Note that pos_label (set to 'positive') is ignored when average != 'binary' (got 'micro'). You may use labels=[pos_label] to specify a single positive class.\n",
            "  UserWarning,\n",
            "/usr/local/lib/python3.7/dist-packages/sklearn/metrics/_classification.py:1375: UserWarning: Note that pos_label (set to 'positive') is ignored when average != 'binary' (got 'macro'). You may use labels=[pos_label] to specify a single positive class.\n",
            "  UserWarning,\n",
            "/usr/local/lib/python3.7/dist-packages/sklearn/metrics/_classification.py:1318: UndefinedMetricWarning: Recall is ill-defined and being set to 0.0 in labels with no true samples. Use `zero_division` parameter to control this behavior.\n",
            "  _warn_prf(average, modifier, msg_start, len(result))\n",
            "/usr/local/lib/python3.7/dist-packages/sklearn/metrics/_classification.py:1375: UserWarning: Note that pos_label (set to 'positive') is ignored when average != 'binary' (got 'micro'). You may use labels=[pos_label] to specify a single positive class.\n",
            "  UserWarning,\n"
          ]
        },
        {
          "output_type": "stream",
          "name": "stdout",
          "text": [
            "Accuracy Score Decision Tree = 0.64\n",
            "Precision =  0.638\n",
            "Recall =  0.546\n",
            "F1 =  0.638\n",
            "==========\n",
            "Root Mean Squared Error (RMSE) = 0.7568780097268253\n",
            "Pearson's Correlation Coefficient = 0.7258106062738773\n"
          ]
        },
        {
          "output_type": "display_data",
          "data": {
            "text/plain": [
              "<Figure size 432x288 with 1 Axes>"
            ],
            "image/png": "[encoded data removed]"
          },
          "metadata": {
            "needs_background": "light"
          }
        }
      ]
    },
    {
      "cell_type": "code",
      "source": [
        "import graphviz \n",
        "graf = tree.export_graphviz(dtree, out_file=None, \n",
        "                              feature_names=X_train.columns,  \n",
        "                              class_names=data_cadangan_training[\"eReader_Adoption\"],  \n",
        "                              filled=True, rounded=True,  \n",
        "                              special_characters=True)\n",
        "\n",
        "graph = graphviz.Source(graf) \n",
        "\n",
        "graph "
      ],
      "metadata": {
        "id": "sT4aKbnZ3N6u",
        "colab": {
          "base_uri": "https://localhost:8080/",
          "height": 618
        },
        "outputId": "ec53fee9-b4e3-45ed-c3d9-9f9a927da08f"
      },
      "execution_count": 28,
      "outputs": [
        {
          "output_type": "execute_result",
          "data": {
            "text/plain": [
              "<graphviz.files.Source at 0x7f0320075e50>"
            ],
            "image/svg+xml": "<?xml version=\"1.0\" encoding=\"UTF-8\" standalone=\"no\"?>\n<!DOCTYPE svg PUBLIC \"-//W3C//DTD SVG 1.1//EN\"\n \"http://www.w3.org/Graphics/SVG/1.1/DTD/svg11.dtd\">\n<!-- Generated by graphviz version 2.40.1 (20161225.0304)\n -->\n<!-- Title: Tree Pages: 1 -->\n<svg width=\"1284pt\" height=\"433pt\"\n viewBox=\"0.00 0.00 1284.00 433.00\" xmlns=\"http://www.w3.org/2000/svg\" xmlns:xlink=\"http://www.w3.org/1999/xlink\">\n<g id=\"graph0\" class=\"graph\" transform=\"scale(1 1) rotate(0) translate(4 429)\">\n<title>Tree</title>\n<polygon fill=\"#ffffff\" stroke=\"transparent\" points=\"-4,4 -4,-429 1280,-429 1280,4 -4,4\"/>\n<!-- 0 -->\n<g id=\"node1\" class=\"node\">\n<title>0</title>\n<path fill=\"#edfceb\" stroke=\"#000000\" d=\"M710.5,-425C710.5,-425 538.5,-425 538.5,-425 532.5,-425 526.5,-419 526.5,-413 526.5,-413 526.5,-354 526.5,-354 526.5,-348 532.5,-342 538.5,-342 538.5,-342 710.5,-342 710.5,-342 716.5,-342 722.5,-348 722.5,-354 722.5,-354 722.5,-413 722.5,-413 722.5,-419 716.5,-425 710.5,-425\"/>\n<text text-anchor=\"start\" x=\"534.5\" y=\"-409.8\" font-family=\"Helvetica,sans-Serif\" font-size=\"14.00\" fill=\"#000000\">Bought_Digital_Books ≤ 0.5</text>\n<text text-anchor=\"start\" x=\"582\" y=\"-394.8\" font-family=\"Helvetica,sans-Serif\" font-size=\"14.00\" fill=\"#000000\">entropy = 1.9</text>\n<text text-anchor=\"start\" x=\"576.5\" y=\"-379.8\" font-family=\"Helvetica,sans-Serif\" font-size=\"14.00\" fill=\"#000000\">samples = 199</text>\n<text text-anchor=\"start\" x=\"550.5\" y=\"-364.8\" font-family=\"Helvetica,sans-Serif\" font-size=\"14.00\" fill=\"#000000\">value = [25, 73, 42, 59]</text>\n<text text-anchor=\"start\" x=\"569\" y=\"-349.8\" font-family=\"Helvetica,sans-Serif\" font-size=\"14.00\" fill=\"#000000\">class = Innovator</text>\n</g>\n<!-- 1 -->\n<g id=\"node2\" class=\"node\">\n<title>1</title>\n<path fill=\"#f1b8f6\" stroke=\"#000000\" d=\"M568,-306C568,-306 425,-306 425,-306 419,-306 413,-300 413,-294 413,-294 413,-235 413,-235 413,-229 419,-223 425,-223 425,-223 568,-223 568,-223 574,-223 580,-229 580,-235 580,-235 580,-294 580,-294 580,-300 574,-306 568,-306\"/>\n<text text-anchor=\"start\" x=\"421\" y=\"-290.8\" font-family=\"Helvetica,sans-Serif\" font-size=\"14.00\" fill=\"#000000\">Website_Activity ≤ 0.25</text>\n<text text-anchor=\"start\" x=\"445.5\" y=\"-275.8\" font-family=\"Helvetica,sans-Serif\" font-size=\"14.00\" fill=\"#000000\">entropy = 1.672</text>\n<text text-anchor=\"start\" x=\"448.5\" y=\"-260.8\" font-family=\"Helvetica,sans-Serif\" font-size=\"14.00\" fill=\"#000000\">samples = 111</text>\n<text text-anchor=\"start\" x=\"427\" y=\"-245.8\" font-family=\"Helvetica,sans-Serif\" font-size=\"14.00\" fill=\"#000000\">value = [6, 27, 21, 57]</text>\n<text text-anchor=\"start\" x=\"428\" y=\"-230.8\" font-family=\"Helvetica,sans-Serif\" font-size=\"14.00\" fill=\"#000000\">class = Early Adopter</text>\n</g>\n<!-- 0&#45;&gt;1 -->\n<g id=\"edge1\" class=\"edge\">\n<title>0&#45;&gt;1</title>\n<path fill=\"none\" stroke=\"#000000\" d=\"M579.7318,-341.8796C569.7537,-332.6031 559.0881,-322.6874 548.8358,-313.1559\"/>\n<polygon fill=\"#000000\" stroke=\"#000000\" points=\"551.1663,-310.5436 541.4593,-306.2981 546.4,-315.6704 551.1663,-310.5436\"/>\n<text text-anchor=\"middle\" x=\"542.3696\" y=\"-327.5815\" font-family=\"Helvetica,sans-Serif\" font-size=\"14.00\" fill=\"#000000\">True</text>\n</g>\n<!-- 8 -->\n<g id=\"node9\" class=\"node\">\n<title>8</title>\n<path fill=\"#baf5b5\" stroke=\"#000000\" d=\"M847,-306C847,-306 704,-306 704,-306 698,-306 692,-300 692,-294 692,-294 692,-235 692,-235 692,-229 698,-223 704,-223 704,-223 847,-223 847,-223 853,-223 859,-229 859,-235 859,-235 859,-294 859,-294 859,-300 853,-306 847,-306\"/>\n<text text-anchor=\"start\" x=\"700\" y=\"-290.8\" font-family=\"Helvetica,sans-Serif\" font-size=\"14.00\" fill=\"#000000\">Website_Activity ≤ 0.25</text>\n<text text-anchor=\"start\" x=\"724.5\" y=\"-275.8\" font-family=\"Helvetica,sans-Serif\" font-size=\"14.00\" fill=\"#000000\">entropy = 1.584</text>\n<text text-anchor=\"start\" x=\"731.5\" y=\"-260.8\" font-family=\"Helvetica,sans-Serif\" font-size=\"14.00\" fill=\"#000000\">samples = 88</text>\n<text text-anchor=\"start\" x=\"706\" y=\"-245.8\" font-family=\"Helvetica,sans-Serif\" font-size=\"14.00\" fill=\"#000000\">value = [19, 46, 21, 2]</text>\n<text text-anchor=\"start\" x=\"720\" y=\"-230.8\" font-family=\"Helvetica,sans-Serif\" font-size=\"14.00\" fill=\"#000000\">class = Innovator</text>\n</g>\n<!-- 0&#45;&gt;8 -->\n<g id=\"edge8\" class=\"edge\">\n<title>0&#45;&gt;8</title>\n<path fill=\"none\" stroke=\"#000000\" d=\"M677.3125,-341.8796C689.3818,-332.368 702.3039,-322.1843 714.6788,-312.432\"/>\n<polygon fill=\"#000000\" stroke=\"#000000\" points=\"717.0296,-315.0356 722.7173,-306.0969 712.6968,-309.5377 717.0296,-315.0356\"/>\n<text text-anchor=\"middle\" x=\"719.775\" y=\"-327.2232\" font-family=\"Helvetica,sans-Serif\" font-size=\"14.00\" fill=\"#000000\">False</text>\n</g>\n<!-- 2 -->\n<g id=\"node3\" class=\"node\">\n<title>2</title>\n<path fill=\"#e47aee\" stroke=\"#000000\" d=\"M347,-187C347,-187 148,-187 148,-187 142,-187 136,-181 136,-175 136,-175 136,-116 136,-116 136,-110 142,-104 148,-104 148,-104 347,-104 347,-104 353,-104 359,-110 359,-116 359,-116 359,-175 359,-175 359,-181 353,-187 347,-187\"/>\n<text text-anchor=\"start\" x=\"144\" y=\"-171.8\" font-family=\"Helvetica,sans-Serif\" font-size=\"14.00\" fill=\"#000000\">Bought_Electronics_12Mo ≤ 0.5</text>\n<text text-anchor=\"start\" x=\"196.5\" y=\"-156.8\" font-family=\"Helvetica,sans-Serif\" font-size=\"14.00\" fill=\"#000000\">entropy = 1.079</text>\n<text text-anchor=\"start\" x=\"203.5\" y=\"-141.8\" font-family=\"Helvetica,sans-Serif\" font-size=\"14.00\" fill=\"#000000\">samples = 71</text>\n<text text-anchor=\"start\" x=\"182\" y=\"-126.8\" font-family=\"Helvetica,sans-Serif\" font-size=\"14.00\" fill=\"#000000\">value = [0, 6, 13, 52]</text>\n<text text-anchor=\"start\" x=\"179\" y=\"-111.8\" font-family=\"Helvetica,sans-Serif\" font-size=\"14.00\" fill=\"#000000\">class = Early Adopter</text>\n</g>\n<!-- 1&#45;&gt;2 -->\n<g id=\"edge2\" class=\"edge\">\n<title>1&#45;&gt;2</title>\n<path fill=\"none\" stroke=\"#000000\" d=\"M412.8939,-224.5437C390.7908,-213.9803 366.7532,-202.4925 344.0269,-191.6313\"/>\n<polygon fill=\"#000000\" stroke=\"#000000\" points=\"345.2483,-188.3359 334.7165,-187.1818 342.2299,-194.6517 345.2483,-188.3359\"/>\n</g>\n<!-- 5 -->\n<g id=\"node6\" class=\"node\">\n<title>5</title>\n<path fill=\"#b4f4af\" stroke=\"#000000\" d=\"M568,-187C568,-187 425,-187 425,-187 419,-187 413,-181 413,-175 413,-175 413,-116 413,-116 413,-110 419,-104 425,-104 425,-104 568,-104 568,-104 574,-104 580,-110 580,-116 580,-116 580,-175 580,-175 580,-181 574,-187 568,-187\"/>\n<text text-anchor=\"start\" x=\"421\" y=\"-171.8\" font-family=\"Helvetica,sans-Serif\" font-size=\"14.00\" fill=\"#000000\">Website_Activity ≤ 0.75</text>\n<text text-anchor=\"start\" x=\"445.5\" y=\"-156.8\" font-family=\"Helvetica,sans-Serif\" font-size=\"14.00\" fill=\"#000000\">entropy = 1.738</text>\n<text text-anchor=\"start\" x=\"452.5\" y=\"-141.8\" font-family=\"Helvetica,sans-Serif\" font-size=\"14.00\" fill=\"#000000\">samples = 40</text>\n<text text-anchor=\"start\" x=\"435\" y=\"-126.8\" font-family=\"Helvetica,sans-Serif\" font-size=\"14.00\" fill=\"#000000\">value = [6, 21, 8, 5]</text>\n<text text-anchor=\"start\" x=\"441\" y=\"-111.8\" font-family=\"Helvetica,sans-Serif\" font-size=\"14.00\" fill=\"#000000\">class = Innovator</text>\n</g>\n<!-- 1&#45;&gt;5 -->\n<g id=\"edge5\" class=\"edge\">\n<title>1&#45;&gt;5</title>\n<path fill=\"none\" stroke=\"#000000\" d=\"M496.5,-222.8796C496.5,-214.6838 496.5,-205.9891 496.5,-197.5013\"/>\n<polygon fill=\"#000000\" stroke=\"#000000\" points=\"500.0001,-197.298 496.5,-187.2981 493.0001,-197.2981 500.0001,-197.298\"/>\n</g>\n<!-- 3 -->\n<g id=\"node4\" class=\"node\">\n<title>3</title>\n<path fill=\"#e372ed\" stroke=\"#000000\" d=\"M141,-68C141,-68 12,-68 12,-68 6,-68 0,-62 0,-56 0,-56 0,-12 0,-12 0,-6 6,0 12,0 12,0 141,0 141,0 147,0 153,-6 153,-12 153,-12 153,-56 153,-56 153,-62 147,-68 141,-68\"/>\n<text text-anchor=\"start\" x=\"25.5\" y=\"-52.8\" font-family=\"Helvetica,sans-Serif\" font-size=\"14.00\" fill=\"#000000\">entropy = 1.059</text>\n<text text-anchor=\"start\" x=\"32.5\" y=\"-37.8\" font-family=\"Helvetica,sans-Serif\" font-size=\"14.00\" fill=\"#000000\">samples = 36</text>\n<text text-anchor=\"start\" x=\"15\" y=\"-22.8\" font-family=\"Helvetica,sans-Serif\" font-size=\"14.00\" fill=\"#000000\">value = [0, 5, 4, 27]</text>\n<text text-anchor=\"start\" x=\"8\" y=\"-7.8\" font-family=\"Helvetica,sans-Serif\" font-size=\"14.00\" fill=\"#000000\">class = Early Adopter</text>\n</g>\n<!-- 2&#45;&gt;3 -->\n<g id=\"edge3\" class=\"edge\">\n<title>2&#45;&gt;3</title>\n<path fill=\"none\" stroke=\"#000000\" d=\"M183.8259,-103.9815C168.6648,-94.0957 152.5224,-83.5701 137.4851,-73.7651\"/>\n<polygon fill=\"#000000\" stroke=\"#000000\" points=\"139.0631,-70.6158 128.7748,-68.0856 135.2397,-76.4794 139.0631,-70.6158\"/>\n</g>\n<!-- 4 -->\n<g id=\"node5\" class=\"node\">\n<title>4</title>\n<path fill=\"#e685ef\" stroke=\"#000000\" d=\"M312,-68C312,-68 183,-68 183,-68 177,-68 171,-62 171,-56 171,-56 171,-12 171,-12 171,-6 177,0 183,0 183,0 312,0 312,0 318,0 324,-6 324,-12 324,-12 324,-56 324,-56 324,-62 318,-68 312,-68\"/>\n<text text-anchor=\"start\" x=\"196.5\" y=\"-52.8\" font-family=\"Helvetica,sans-Serif\" font-size=\"14.00\" fill=\"#000000\">entropy = 0.997</text>\n<text text-anchor=\"start\" x=\"203.5\" y=\"-37.8\" font-family=\"Helvetica,sans-Serif\" font-size=\"14.00\" fill=\"#000000\">samples = 35</text>\n<text text-anchor=\"start\" x=\"186\" y=\"-22.8\" font-family=\"Helvetica,sans-Serif\" font-size=\"14.00\" fill=\"#000000\">value = [0, 1, 9, 25]</text>\n<text text-anchor=\"start\" x=\"179\" y=\"-7.8\" font-family=\"Helvetica,sans-Serif\" font-size=\"14.00\" fill=\"#000000\">class = Early Adopter</text>\n</g>\n<!-- 2&#45;&gt;4 -->\n<g id=\"edge4\" class=\"edge\">\n<title>2&#45;&gt;4</title>\n<path fill=\"none\" stroke=\"#000000\" d=\"M247.5,-103.9815C247.5,-95.618 247.5,-86.7965 247.5,-78.3409\"/>\n<polygon fill=\"#000000\" stroke=\"#000000\" points=\"251.0001,-78.2636 247.5,-68.2637 244.0001,-78.2637 251.0001,-78.2636\"/>\n</g>\n<!-- 6 -->\n<g id=\"node7\" class=\"node\">\n<title>6</title>\n<path fill=\"#baf5b5\" stroke=\"#000000\" d=\"M469,-68C469,-68 354,-68 354,-68 348,-68 342,-62 342,-56 342,-56 342,-12 342,-12 342,-6 348,0 354,0 354,0 469,0 469,0 475,0 481,-6 481,-12 481,-12 481,-56 481,-56 481,-62 475,-68 469,-68\"/>\n<text text-anchor=\"start\" x=\"360.5\" y=\"-52.8\" font-family=\"Helvetica,sans-Serif\" font-size=\"14.00\" fill=\"#000000\">entropy = 1.728</text>\n<text text-anchor=\"start\" x=\"367.5\" y=\"-37.8\" font-family=\"Helvetica,sans-Serif\" font-size=\"14.00\" fill=\"#000000\">samples = 31</text>\n<text text-anchor=\"start\" x=\"350\" y=\"-22.8\" font-family=\"Helvetica,sans-Serif\" font-size=\"14.00\" fill=\"#000000\">value = [3, 16, 7, 5]</text>\n<text text-anchor=\"start\" x=\"356\" y=\"-7.8\" font-family=\"Helvetica,sans-Serif\" font-size=\"14.00\" fill=\"#000000\">class = Innovator</text>\n</g>\n<!-- 5&#45;&gt;6 -->\n<g id=\"edge6\" class=\"edge\">\n<title>5&#45;&gt;6</title>\n<path fill=\"none\" stroke=\"#000000\" d=\"M464.8491,-103.9815C457.9829,-94.9747 450.7118,-85.4367 443.8202,-76.3965\"/>\n<polygon fill=\"#000000\" stroke=\"#000000\" points=\"446.4664,-74.0945 437.6203,-68.2637 440.8995,-78.3383 446.4664,-74.0945\"/>\n</g>\n<!-- 7 -->\n<g id=\"node8\" class=\"node\">\n<title>7</title>\n<path fill=\"#c2f6bd\" stroke=\"#000000\" d=\"M618,-68C618,-68 511,-68 511,-68 505,-68 499,-62 499,-56 499,-56 499,-12 499,-12 499,-6 505,0 511,0 511,0 618,0 618,0 624,0 630,-6 630,-12 630,-12 630,-56 630,-56 630,-62 624,-68 618,-68\"/>\n<text text-anchor=\"start\" x=\"513.5\" y=\"-52.8\" font-family=\"Helvetica,sans-Serif\" font-size=\"14.00\" fill=\"#000000\">entropy = 1.352</text>\n<text text-anchor=\"start\" x=\"525\" y=\"-37.8\" font-family=\"Helvetica,sans-Serif\" font-size=\"14.00\" fill=\"#000000\">samples = 9</text>\n<text text-anchor=\"start\" x=\"507\" y=\"-22.8\" font-family=\"Helvetica,sans-Serif\" font-size=\"14.00\" fill=\"#000000\">value = [3, 5, 1, 0]</text>\n<text text-anchor=\"start\" x=\"509\" y=\"-7.8\" font-family=\"Helvetica,sans-Serif\" font-size=\"14.00\" fill=\"#000000\">class = Innovator</text>\n</g>\n<!-- 5&#45;&gt;7 -->\n<g id=\"edge7\" class=\"edge\">\n<title>5&#45;&gt;7</title>\n<path fill=\"none\" stroke=\"#000000\" d=\"M521.8207,-103.9815C527.2016,-95.1585 532.8932,-85.8258 538.3059,-76.9506\"/>\n<polygon fill=\"#000000\" stroke=\"#000000\" points=\"541.3851,-78.6236 543.6038,-68.2637 535.4088,-74.9789 541.3851,-78.6236\"/>\n</g>\n<!-- 9 -->\n<g id=\"node10\" class=\"node\">\n<title>9</title>\n<path fill=\"#aaf3a4\" stroke=\"#000000\" d=\"M837,-187C837,-187 714,-187 714,-187 708,-187 702,-181 702,-175 702,-175 702,-116 702,-116 702,-110 708,-104 714,-104 714,-104 837,-104 837,-104 843,-104 849,-110 849,-116 849,-116 849,-175 849,-175 849,-181 843,-187 837,-187\"/>\n<text text-anchor=\"start\" x=\"711.5\" y=\"-171.8\" font-family=\"Helvetica,sans-Serif\" font-size=\"14.00\" fill=\"#000000\">Marital_Status ≤ 0.5</text>\n<text text-anchor=\"start\" x=\"724.5\" y=\"-156.8\" font-family=\"Helvetica,sans-Serif\" font-size=\"14.00\" fill=\"#000000\">entropy = 1.216</text>\n<text text-anchor=\"start\" x=\"731.5\" y=\"-141.8\" font-family=\"Helvetica,sans-Serif\" font-size=\"14.00\" fill=\"#000000\">samples = 57</text>\n<text text-anchor=\"start\" x=\"710\" y=\"-126.8\" font-family=\"Helvetica,sans-Serif\" font-size=\"14.00\" fill=\"#000000\">value = [2, 36, 18, 1]</text>\n<text text-anchor=\"start\" x=\"720\" y=\"-111.8\" font-family=\"Helvetica,sans-Serif\" font-size=\"14.00\" fill=\"#000000\">class = Innovator</text>\n</g>\n<!-- 8&#45;&gt;9 -->\n<g id=\"edge9\" class=\"edge\">\n<title>8&#45;&gt;9</title>\n<path fill=\"none\" stroke=\"#000000\" d=\"M775.5,-222.8796C775.5,-214.6838 775.5,-205.9891 775.5,-197.5013\"/>\n<polygon fill=\"#000000\" stroke=\"#000000\" points=\"779.0001,-197.298 775.5,-187.2981 772.0001,-197.2981 779.0001,-197.298\"/>\n</g>\n<!-- 12 -->\n<g id=\"node13\" class=\"node\">\n<title>12</title>\n<path fill=\"#f6d5bd\" stroke=\"#000000\" d=\"M1152,-187C1152,-187 937,-187 937,-187 931,-187 925,-181 925,-175 925,-175 925,-116 925,-116 925,-110 931,-104 937,-104 937,-104 1152,-104 1152,-104 1158,-104 1164,-110 1164,-116 1164,-116 1164,-175 1164,-175 1164,-181 1158,-187 1152,-187\"/>\n<text text-anchor=\"start\" x=\"933\" y=\"-171.8\" font-family=\"Helvetica,sans-Serif\" font-size=\"14.00\" fill=\"#000000\">Bought_Digital_Media_18Mo ≤ 0.5</text>\n<text text-anchor=\"start\" x=\"993.5\" y=\"-156.8\" font-family=\"Helvetica,sans-Serif\" font-size=\"14.00\" fill=\"#000000\">entropy = 1.488</text>\n<text text-anchor=\"start\" x=\"1000.5\" y=\"-141.8\" font-family=\"Helvetica,sans-Serif\" font-size=\"14.00\" fill=\"#000000\">samples = 31</text>\n<text text-anchor=\"start\" x=\"979\" y=\"-126.8\" font-family=\"Helvetica,sans-Serif\" font-size=\"14.00\" fill=\"#000000\">value = [17, 10, 3, 1]</text>\n<text text-anchor=\"start\" x=\"978\" y=\"-111.8\" font-family=\"Helvetica,sans-Serif\" font-size=\"14.00\" fill=\"#000000\">class = Late Majority</text>\n</g>\n<!-- 8&#45;&gt;12 -->\n<g id=\"edge12\" class=\"edge\">\n<title>8&#45;&gt;12</title>\n<path fill=\"none\" stroke=\"#000000\" d=\"M859.1387,-227.5C885.1891,-215.9758 914.2247,-203.1311 941.4408,-191.0913\"/>\n<polygon fill=\"#000000\" stroke=\"#000000\" points=\"942.8648,-194.2886 950.5939,-187.0421 940.0328,-187.887 942.8648,-194.2886\"/>\n</g>\n<!-- 10 -->\n<g id=\"node11\" class=\"node\">\n<title>10</title>\n<path fill=\"#7ded73\" stroke=\"#000000\" d=\"M775,-68C775,-68 660,-68 660,-68 654,-68 648,-62 648,-56 648,-56 648,-12 648,-12 648,-6 654,0 660,0 660,0 775,0 775,0 781,0 787,-6 787,-12 787,-12 787,-56 787,-56 787,-62 781,-68 775,-68\"/>\n<text text-anchor=\"start\" x=\"666.5\" y=\"-52.8\" font-family=\"Helvetica,sans-Serif\" font-size=\"14.00\" fill=\"#000000\">entropy = 0.964</text>\n<text text-anchor=\"start\" x=\"673.5\" y=\"-37.8\" font-family=\"Helvetica,sans-Serif\" font-size=\"14.00\" fill=\"#000000\">samples = 21</text>\n<text text-anchor=\"start\" x=\"656\" y=\"-22.8\" font-family=\"Helvetica,sans-Serif\" font-size=\"14.00\" fill=\"#000000\">value = [0, 16, 4, 1]</text>\n<text text-anchor=\"start\" x=\"662\" y=\"-7.8\" font-family=\"Helvetica,sans-Serif\" font-size=\"14.00\" fill=\"#000000\">class = Innovator</text>\n</g>\n<!-- 9&#45;&gt;10 -->\n<g id=\"edge10\" class=\"edge\">\n<title>9&#45;&gt;10</title>\n<path fill=\"none\" stroke=\"#000000\" d=\"M753.9029,-103.9815C749.3612,-95.2504 744.5598,-86.0202 739.9863,-77.2281\"/>\n<polygon fill=\"#000000\" stroke=\"#000000\" points=\"743.0431,-75.52 735.3233,-68.2637 736.8331,-78.7504 743.0431,-75.52\"/>\n</g>\n<!-- 11 -->\n<g id=\"node12\" class=\"node\">\n<title>11</title>\n<path fill=\"#cdf8c9\" stroke=\"#000000\" d=\"M940,-68C940,-68 817,-68 817,-68 811,-68 805,-62 805,-56 805,-56 805,-12 805,-12 805,-6 811,0 817,0 817,0 940,0 940,0 946,0 952,-6 952,-12 952,-12 952,-56 952,-56 952,-62 946,-68 940,-68\"/>\n<text text-anchor=\"start\" x=\"827.5\" y=\"-52.8\" font-family=\"Helvetica,sans-Serif\" font-size=\"14.00\" fill=\"#000000\">entropy = 1.233</text>\n<text text-anchor=\"start\" x=\"834.5\" y=\"-37.8\" font-family=\"Helvetica,sans-Serif\" font-size=\"14.00\" fill=\"#000000\">samples = 36</text>\n<text text-anchor=\"start\" x=\"813\" y=\"-22.8\" font-family=\"Helvetica,sans-Serif\" font-size=\"14.00\" fill=\"#000000\">value = [2, 20, 14, 0]</text>\n<text text-anchor=\"start\" x=\"823\" y=\"-7.8\" font-family=\"Helvetica,sans-Serif\" font-size=\"14.00\" fill=\"#000000\">class = Innovator</text>\n</g>\n<!-- 9&#45;&gt;11 -->\n<g id=\"edge11\" class=\"edge\">\n<title>9&#45;&gt;11</title>\n<path fill=\"none\" stroke=\"#000000\" d=\"M813.8534,-103.9815C822.3434,-94.7908 831.3443,-85.0472 839.8463,-75.8436\"/>\n<polygon fill=\"#000000\" stroke=\"#000000\" points=\"842.6337,-77.9842 846.8484,-68.2637 837.4919,-73.2343 842.6337,-77.9842\"/>\n</g>\n<!-- 13 -->\n<g id=\"node14\" class=\"node\">\n<title>13</title>\n<path fill=\"#e89152\" stroke=\"#000000\" d=\"M1107,-68C1107,-68 982,-68 982,-68 976,-68 970,-62 970,-56 970,-56 970,-12 970,-12 970,-6 976,0 982,0 982,0 1107,0 1107,0 1113,0 1119,-6 1119,-12 1119,-12 1119,-56 1119,-56 1119,-62 1113,-68 1107,-68\"/>\n<text text-anchor=\"start\" x=\"993.5\" y=\"-52.8\" font-family=\"Helvetica,sans-Serif\" font-size=\"14.00\" fill=\"#000000\">entropy = 0.503</text>\n<text text-anchor=\"start\" x=\"1005\" y=\"-37.8\" font-family=\"Helvetica,sans-Serif\" font-size=\"14.00\" fill=\"#000000\">samples = 9</text>\n<text text-anchor=\"start\" x=\"987\" y=\"-22.8\" font-family=\"Helvetica,sans-Serif\" font-size=\"14.00\" fill=\"#000000\">value = [8, 0, 1, 0]</text>\n<text text-anchor=\"start\" x=\"978\" y=\"-7.8\" font-family=\"Helvetica,sans-Serif\" font-size=\"14.00\" fill=\"#000000\">class = Late Majority</text>\n</g>\n<!-- 12&#45;&gt;13 -->\n<g id=\"edge13\" class=\"edge\">\n<title>12&#45;&gt;13</title>\n<path fill=\"none\" stroke=\"#000000\" d=\"M1044.5,-103.9815C1044.5,-95.618 1044.5,-86.7965 1044.5,-78.3409\"/>\n<polygon fill=\"#000000\" stroke=\"#000000\" points=\"1048.0001,-78.2636 1044.5,-68.2637 1041.0001,-78.2637 1048.0001,-78.2636\"/>\n</g>\n<!-- 14 -->\n<g id=\"node15\" class=\"node\">\n<title>14</title>\n<path fill=\"#f1fdf0\" stroke=\"#000000\" d=\"M1264,-68C1264,-68 1149,-68 1149,-68 1143,-68 1137,-62 1137,-56 1137,-56 1137,-12 1137,-12 1137,-6 1143,0 1149,0 1149,0 1264,0 1264,0 1270,0 1276,-6 1276,-12 1276,-12 1276,-56 1276,-56 1276,-62 1270,-68 1264,-68\"/>\n<text text-anchor=\"start\" x=\"1155.5\" y=\"-52.8\" font-family=\"Helvetica,sans-Serif\" font-size=\"14.00\" fill=\"#000000\">entropy = 1.562</text>\n<text text-anchor=\"start\" x=\"1162.5\" y=\"-37.8\" font-family=\"Helvetica,sans-Serif\" font-size=\"14.00\" fill=\"#000000\">samples = 22</text>\n<text text-anchor=\"start\" x=\"1145\" y=\"-22.8\" font-family=\"Helvetica,sans-Serif\" font-size=\"14.00\" fill=\"#000000\">value = [9, 10, 2, 1]</text>\n<text text-anchor=\"start\" x=\"1151\" y=\"-7.8\" font-family=\"Helvetica,sans-Serif\" font-size=\"14.00\" fill=\"#000000\">class = Innovator</text>\n</g>\n<!-- 12&#45;&gt;14 -->\n<g id=\"edge14\" class=\"edge\">\n<title>12&#45;&gt;14</title>\n<path fill=\"none\" stroke=\"#000000\" d=\"M1104.8228,-103.9815C1119.186,-94.0957 1134.4788,-83.5701 1148.7247,-73.7651\"/>\n<polygon fill=\"#000000\" stroke=\"#000000\" points=\"1150.7234,-76.6384 1156.9765,-68.0856 1146.7546,-70.8722 1150.7234,-76.6384\"/>\n</g>\n</g>\n</svg>\n"
          },
          "metadata": {},
          "execution_count": 28
        }
      ]
    },
    {
      "cell_type": "markdown",
      "source": [
        "### 5.2 Confusion Matrix"
      ],
      "metadata": {
        "id": "yJiZ2gp9zAD1"
      }
    },
    {
      "cell_type": "code",
      "source": [
        "from sklearn.metrics import confusion_matrix\n",
        "\n",
        "cm = confusion_matrix(y_test, y_pred)\n",
        "\n",
        "print('Confusion matrix\\n\\n', cm)"
      ],
      "metadata": {
        "colab": {
          "base_uri": "https://localhost:8080/"
        },
        "id": "fEJrFx0hy-u2",
        "outputId": "7c4906f5-c1bc-45f1-920a-d0dc6d4a9a85"
      },
      "execution_count": 29,
      "outputs": [
        {
          "output_type": "stream",
          "name": "stdout",
          "text": [
            "Confusion matrix\n",
            "\n",
            " [[ 8 17  0  0]\n",
            " [ 0 67  0  6]\n",
            " [ 1 28  0 13]\n",
            " [ 0  7  0 52]]\n"
          ]
        }
      ]
    },
    {
      "cell_type": "code",
      "source": [
        "sns.heatmap(cm, annot=True)"
      ],
      "metadata": {
        "colab": {
          "base_uri": "https://localhost:8080/",
          "height": 282
        },
        "id": "Oa6aaE-ZPktB",
        "outputId": "843e7ad4-2468-48f8-9be2-fca4fb1c03e6"
      },
      "execution_count": 30,
      "outputs": [
        {
          "output_type": "execute_result",
          "data": {
            "text/plain": [
              "<matplotlib.axes._subplots.AxesSubplot at 0x7f0320075450>"
            ]
          },
          "metadata": {},
          "execution_count": 30
        },
        {
          "output_type": "display_data",
          "data": {
            "text/plain": [
              "<Figure size 432x288 with 2 Axes>"
            ],
            "image/png": "[encoded data removed]"
          },
          "metadata": {
            "needs_background": "light"
          }
        }
      ]
    },
    {
      "cell_type": "markdown",
      "source": [
        "### Hasil Classification Report"
      ],
      "metadata": {
        "id": "d_vAoBnZTPeK"
      }
    },
    {
      "cell_type": "code",
      "source": [
        "from sklearn.metrics import classification_report\n",
        "print(classification_report(y_test,y_pred))"
      ],
      "metadata": {
        "colab": {
          "base_uri": "https://localhost:8080/"
        },
        "id": "WdHHUvVCQZ4k",
        "outputId": "14a3c559-2dcf-421a-a4c3-f487390d10b5"
      },
      "execution_count": 31,
      "outputs": [
        {
          "output_type": "stream",
          "name": "stdout",
          "text": [
            "              precision    recall  f1-score   support\n",
            "\n",
            "           0       0.89      0.32      0.47        25\n",
            "           1       0.56      0.92      0.70        73\n",
            "           2       0.00      0.00      0.00        42\n",
            "           3       0.73      0.88      0.80        59\n",
            "\n",
            "    accuracy                           0.64       199\n",
            "   macro avg       0.55      0.53      0.49       199\n",
            "weighted avg       0.54      0.64      0.55       199\n",
            "\n"
          ]
        },
        {
          "output_type": "stream",
          "name": "stderr",
          "text": [
            "/usr/local/lib/python3.7/dist-packages/sklearn/metrics/_classification.py:1318: UndefinedMetricWarning: Precision and F-score are ill-defined and being set to 0.0 in labels with no predicted samples. Use `zero_division` parameter to control this behavior.\n",
            "  _warn_prf(average, modifier, msg_start, len(result))\n",
            "/usr/local/lib/python3.7/dist-packages/sklearn/metrics/_classification.py:1318: UndefinedMetricWarning: Precision and F-score are ill-defined and being set to 0.0 in labels with no predicted samples. Use `zero_division` parameter to control this behavior.\n",
            "  _warn_prf(average, modifier, msg_start, len(result))\n",
            "/usr/local/lib/python3.7/dist-packages/sklearn/metrics/_classification.py:1318: UndefinedMetricWarning: Precision and F-score are ill-defined and being set to 0.0 in labels with no predicted samples. Use `zero_division` parameter to control this behavior.\n",
            "  _warn_prf(average, modifier, msg_start, len(result))\n"
          ]
        }
      ]
    },
    {
      "cell_type": "markdown",
      "source": [
        "### 5.4 Predict Data scoring based on Data training "
      ],
      "metadata": {
        "id": "owSOSi5U0YmQ"
      }
    },
    {
      "cell_type": "code",
      "source": [
        "    y_pred2 = dtree.predict(x2_test)\n",
        "    data_scoring['eReader_Adoption'] = y_pred2.copy()"
      ],
      "metadata": {
        "id": "xTEqJcHa0ctj"
      },
      "execution_count": 32,
      "outputs": []
    },
    {
      "cell_type": "markdown",
      "source": [
        "## 5.5 Showing Data Scoring with Prediction(FINAL PREDICT)"
      ],
      "metadata": {
        "id": "1BS5CfQv0_rc"
      }
    },
    {
      "cell_type": "code",
      "source": [
        "change_data3 = {0: 'Innovator', 1: 'Early Adopter' , 2:'Early Majority' , 3: 'Late Majority'\n",
        "              }\n",
        "\n",
        "data_scoring = data_scoring.copy().replace(change_data3)\n",
        "data_scoring.head()"
      ],
      "metadata": {
        "colab": {
          "base_uri": "https://localhost:8080/",
          "height": 270
        },
        "id": "W3DhQlOO0wHD",
        "outputId": "ecbe7632-bf6e-403f-a420-bae9824756cb"
      },
      "execution_count": 33,
      "outputs": [
        {
          "output_type": "execute_result",
          "data": {
            "text/plain": [
              "   User_ID Gender  Age Marital_Status Website_Activity  \\\n",
              "0    56031      M   57              S          Regular   \n",
              "1    25913      F   51              M          Regular   \n",
              "2    19396      M   41              M           Seldom   \n",
              "3    93666      M   66              S          Regular   \n",
              "4    72282      F   31              S           Seldom   \n",
              "\n",
              "  Browsed_Electronics_12Mo Bought_Electronics_12Mo Bought_Digital_Media_18Mo  \\\n",
              "0                      Yes                     Yes                       Yes   \n",
              "1                      Yes                     Yes                        No   \n",
              "2                      Yes                     Yes                       Yes   \n",
              "3                      Yes                     Yes                       Yes   \n",
              "4                      Yes                      No                       Yes   \n",
              "\n",
              "  Bought_Digital_Books   Payment_Method eReader_Adoption  \n",
              "0                  Yes    Bank Transfer    Early Adopter  \n",
              "1                   No    Bank Transfer    Early Adopter  \n",
              "2                   No  Website Account    Late Majority  \n",
              "3                  Yes      Credit Card    Early Adopter  \n",
              "4                   No  Website Account    Late Majority  "
            ],
            "text/html": [
              "\n",
              "  <div id=\"df-4434125f-115c-4204-8a8b-440fc51241af\">\n",
              "    <div class=\"colab-df-container\">\n",
              "      <div>\n",
              "<style scoped>\n",
              "    .dataframe tbody tr th:only-of-type {\n",
              "        vertical-align: middle;\n",
              "    }\n",
              "\n",
              "    .dataframe tbody tr th {\n",
              "        vertical-align: top;\n",
              "    }\n",
              "\n",
              "    .dataframe thead th {\n",
              "        text-align: right;\n",
              "    }\n",
              "</style>\n",
              "<table border=\"1\" class=\"dataframe\">\n",
              "  <thead>\n",
              "    <tr style=\"text-align: right;\">\n",
              "      <th></th>\n",
              "      <th>User_ID</th>\n",
              "      <th>Gender</th>\n",
              "      <th>Age</th>\n",
              "      <th>Marital_Status</th>\n",
              "      <th>Website_Activity</th>\n",
              "      <th>Browsed_Electronics_12Mo</th>\n",
              "      <th>Bought_Electronics_12Mo</th>\n",
              "      <th>Bought_Digital_Media_18Mo</th>\n",
              "      <th>Bought_Digital_Books</th>\n",
              "      <th>Payment_Method</th>\n",
              "      <th>eReader_Adoption</th>\n",
              "    </tr>\n",
              "  </thead>\n",
              "  <tbody>\n",
              "    <tr>\n",
              "      <th>0</th>\n",
              "      <td>56031</td>\n",
              "      <td>M</td>\n",
              "      <td>57</td>\n",
              "      <td>S</td>\n",
              "      <td>Regular</td>\n",
              "      <td>Yes</td>\n",
              "      <td>Yes</td>\n",
              "      <td>Yes</td>\n",
              "      <td>Yes</td>\n",
              "      <td>Bank Transfer</td>\n",
              "      <td>Early Adopter</td>\n",
              "    </tr>\n",
              "    <tr>\n",
              "      <th>1</th>\n",
              "      <td>25913</td>\n",
              "      <td>F</td>\n",
              "      <td>51</td>\n",
              "      <td>M</td>\n",
              "      <td>Regular</td>\n",
              "      <td>Yes</td>\n",
              "      <td>Yes</td>\n",
              "      <td>No</td>\n",
              "      <td>No</td>\n",
              "      <td>Bank Transfer</td>\n",
              "      <td>Early Adopter</td>\n",
              "    </tr>\n",
              "    <tr>\n",
              "      <th>2</th>\n",
              "      <td>19396</td>\n",
              "      <td>M</td>\n",
              "      <td>41</td>\n",
              "      <td>M</td>\n",
              "      <td>Seldom</td>\n",
              "      <td>Yes</td>\n",
              "      <td>Yes</td>\n",
              "      <td>Yes</td>\n",
              "      <td>No</td>\n",
              "      <td>Website Account</td>\n",
              "      <td>Late Majority</td>\n",
              "    </tr>\n",
              "    <tr>\n",
              "      <th>3</th>\n",
              "      <td>93666</td>\n",
              "      <td>M</td>\n",
              "      <td>66</td>\n",
              "      <td>S</td>\n",
              "      <td>Regular</td>\n",
              "      <td>Yes</td>\n",
              "      <td>Yes</td>\n",
              "      <td>Yes</td>\n",
              "      <td>Yes</td>\n",
              "      <td>Credit Card</td>\n",
              "      <td>Early Adopter</td>\n",
              "    </tr>\n",
              "    <tr>\n",
              "      <th>4</th>\n",
              "      <td>72282</td>\n",
              "      <td>F</td>\n",
              "      <td>31</td>\n",
              "      <td>S</td>\n",
              "      <td>Seldom</td>\n",
              "      <td>Yes</td>\n",
              "      <td>No</td>\n",
              "      <td>Yes</td>\n",
              "      <td>No</td>\n",
              "      <td>Website Account</td>\n",
              "      <td>Late Majority</td>\n",
              "    </tr>\n",
              "  </tbody>\n",
              "</table>\n",
              "</div>\n",
              "      <button class=\"colab-df-convert\" onclick=\"convertToInteractive('df-4434125f-115c-4204-8a8b-440fc51241af')\"\n",
              "              title=\"Convert this dataframe to an interactive table.\"\n",
              "              style=\"display:none;\">\n",
              "        \n",
              "  <svg xmlns=\"http://www.w3.org/2000/svg\" height=\"24px\"viewBox=\"0 0 24 24\"\n",
              "       width=\"24px\">\n",
              "    <path d=\"M0 0h24v24H0V0z\" fill=\"none\"/>\n",
              "    <path d=\"M18.56 5.44l.94 2.06.94-2.06 2.06-.94-2.06-.94-.94-2.06-.94 2.06-2.06.94zm-11 1L8.5 8.5l.94-2.06 2.06-.94-2.06-.94L8.5 2.5l-.94 2.06-2.06.94zm10 10l.94 2.06.94-2.06 2.06-.94-2.06-.94-.94-2.06-.94 2.06-2.06.94z\"/><path d=\"M17.41 7.96l-1.37-1.37c-.4-.4-.92-.59-1.43-.59-.52 0-1.04.2-1.43.59L10.3 9.45l-7.72 7.72c-.78.78-.78 2.05 0 2.83L4 21.41c.39.39.9.59 1.41.59.51 0 1.02-.2 1.41-.59l7.78-7.78 2.81-2.81c.8-.78.8-2.07 0-2.86zM5.41 20L4 18.59l7.72-7.72 1.47 1.35L5.41 20z\"/>\n",
              "  </svg>\n",
              "      </button>\n",
              "      \n",
              "  <style>\n",
              "    .colab-df-container {\n",
              "      display:flex;\n",
              "      flex-wrap:wrap;\n",
              "      gap: 12px;\n",
              "    }\n",
              "\n",
              "    .colab-df-convert {\n",
              "      background-color: #E8F0FE;\n",
              "      border: none;\n",
              "      border-radius: 50%;\n",
              "      cursor: pointer;\n",
              "      display: none;\n",
              "      fill: #1967D2;\n",
              "      height: 32px;\n",
              "      padding: 0 0 0 0;\n",
              "      width: 32px;\n",
              "    }\n",
              "\n",
              "    .colab-df-convert:hover {\n",
              "      background-color: #E2EBFA;\n",
              "      box-shadow: 0px 1px 2px rgba(60, 64, 67, 0.3), 0px 1px 3px 1px rgba(60, 64, 67, 0.15);\n",
              "      fill: #174EA6;\n",
              "    }\n",
              "\n",
              "    [theme=dark] .colab-df-convert {\n",
              "      background-color: #3B4455;\n",
              "      fill: #D2E3FC;\n",
              "    }\n",
              "\n",
              "    [theme=dark] .colab-df-convert:hover {\n",
              "      background-color: #434B5C;\n",
              "      box-shadow: 0px 1px 3px 1px rgba(0, 0, 0, 0.15);\n",
              "      filter: drop-shadow(0px 1px 2px rgba(0, 0, 0, 0.3));\n",
              "      fill: #FFFFFF;\n",
              "    }\n",
              "  </style>\n",
              "\n",
              "      <script>\n",
              "        const buttonEl =\n",
              "          document.querySelector('#df-4434125f-115c-4204-8a8b-440fc51241af button.colab-df-convert');\n",
              "        buttonEl.style.display =\n",
              "          google.colab.kernel.accessAllowed ? 'block' : 'none';\n",
              "\n",
              "        async function convertToInteractive(key) {\n",
              "          const element = document.querySelector('#df-4434125f-115c-4204-8a8b-440fc51241af');\n",
              "          const dataTable =\n",
              "            await google.colab.kernel.invokeFunction('convertToInteractive',\n",
              "                                                     [key], {});\n",
              "          if (!dataTable) return;\n",
              "\n",
              "          const docLinkHtml = 'Like what you see? Visit the ' +\n",
              "            '<a target=\"_blank\" href=https://colab.research.google.com/notebooks/data_table.ipynb>data table notebook</a>'\n",
              "            + ' to learn more about interactive tables.';\n",
              "          element.innerHTML = '';\n",
              "          dataTable['output_type'] = 'display_data';\n",
              "          await google.colab.output.renderOutput(dataTable, element);\n",
              "          const docLink = document.createElement('div');\n",
              "          docLink.innerHTML = docLinkHtml;\n",
              "          element.appendChild(docLink);\n",
              "        }\n",
              "      </script>\n",
              "    </div>\n",
              "  </div>\n",
              "  "
            ]
          },
          "metadata": {},
          "execution_count": 33
        }
      ]
    },
    {
      "cell_type": "markdown",
      "source": [
        "### EXTRA: Menggunakan Algoritma yang lain\n",
        "\n",
        "1. SGD(Stochastic Gradient Descent)"
      ],
      "metadata": {
        "id": "U8_nPgDV2KiY"
      }
    },
    {
      "cell_type": "code",
      "source": [
        "from sklearn.linear_model import SGDClassifier\n",
        "def stochasticGradientDescent(df):\n",
        "    sgd = SGDClassifier(loss='modified_huber', shuffle=True, random_state=101)\n",
        "    sgd.fit(X_train, y_train)\n",
        "    y_pred = sgd.predict(X_test)\n",
        "    y_pred\n",
        "    accuracy = accuracy_score(y_test, y_pred)\n",
        "    precision = precision_score(y_pred, y_test, pos_label='positive' ,average='micro')\n",
        "    recall = recall_score(y_pred, y_test ,pos_label='positive' , average='macro')\n",
        "    f1 = f1_score(y_pred, y_test,  pos_label='positive',average='micro')   \n",
        "    print(\"Accuracy Score Stochastic Gradient Descent =\", accuracy.round(2))\n",
        "    print(\"Precision = \", precision.round(3))\n",
        "    print(\"Recall = \", recall.round(3))\n",
        "    print(\"F1 = \", f1.round(3))\n",
        "    \n",
        "    mse = mean_squared_error(y_pred, y_test)\n",
        "    rmse = np.sqrt(mse)\n",
        "    r, _ = pearsonr(y_pred, y_test)\n",
        "    print(\"==========\")\n",
        "    print(\"Root Mean Squared Error (RMSE) = \" + str(rmse))\n",
        "    print(\"Pearson's Correlation Coefficient = \" + str(r))    \n",
        "\n",
        "stochasticGradientDescent(data_training)    "
      ],
      "metadata": {
        "colab": {
          "base_uri": "https://localhost:8080/"
        },
        "id": "4fTe5dJs4a22",
        "outputId": "13439fd3-948c-406b-c76f-592c8a6de2cc"
      },
      "execution_count": 34,
      "outputs": [
        {
          "output_type": "stream",
          "name": "stdout",
          "text": [
            "Accuracy Score Stochastic Gradient Descent = 0.54\n",
            "Precision =  0.538\n",
            "Recall =  0.382\n",
            "F1 =  0.538\n",
            "==========\n",
            "Root Mean Squared Error (RMSE) = 0.8113516237035778\n",
            "Pearson's Correlation Coefficient = 0.645515910172879\n"
          ]
        },
        {
          "output_type": "stream",
          "name": "stderr",
          "text": [
            "/usr/local/lib/python3.7/dist-packages/sklearn/metrics/_classification.py:1375: UserWarning: Note that pos_label (set to 'positive') is ignored when average != 'binary' (got 'micro'). You may use labels=[pos_label] to specify a single positive class.\n",
            "  UserWarning,\n",
            "/usr/local/lib/python3.7/dist-packages/sklearn/metrics/_classification.py:1375: UserWarning: Note that pos_label (set to 'positive') is ignored when average != 'binary' (got 'macro'). You may use labels=[pos_label] to specify a single positive class.\n",
            "  UserWarning,\n",
            "/usr/local/lib/python3.7/dist-packages/sklearn/metrics/_classification.py:1318: UndefinedMetricWarning: Recall is ill-defined and being set to 0.0 in labels with no true samples. Use `zero_division` parameter to control this behavior.\n",
            "  _warn_prf(average, modifier, msg_start, len(result))\n",
            "/usr/local/lib/python3.7/dist-packages/sklearn/metrics/_classification.py:1375: UserWarning: Note that pos_label (set to 'positive') is ignored when average != 'binary' (got 'micro'). You may use labels=[pos_label] to specify a single positive class.\n",
            "  UserWarning,\n"
          ]
        }
      ]
    },
    {
      "cell_type": "markdown",
      "source": [
        "### Hasil: Meskipun sudah mengganti dengan algoritma yang lain, Accuracy score pun tidak menunjukan perubahan"
      ],
      "metadata": {
        "id": "Uvr8LW9g4piN"
      }
    },
    {
      "cell_type": "markdown",
      "source": [
        "## Model Evaluation Using K-Fold-Decision Tree"
      ],
      "metadata": {
        "id": "ZToO1L2gqupk"
      }
    },
    {
      "cell_type": "code",
      "source": [
        "from sklearn.model_selection import KFold\n",
        "kf = KFold(n_splits=5)\n",
        "kf\n",
        "results = []\n",
        "\n",
        "for train_index, test_index in kf.split(X_train):\n",
        "    train_set = (X_train.iloc[train_index, :], y_train.iloc[train_index])\n",
        "    test_set = (X_train.iloc[test_index, :], y_train.iloc[test_index])\n",
        "    \n",
        "    dtree = DecisionTreeClassifier(max_depth=3, random_state=101,\n",
        "                                   max_features=None, min_samples_leaf=8\n",
        "                                  )\n",
        "    dtree.fit(train_set[0], train_set[1])\n",
        "    results.append(dtree.score(test_set[0], test_set[1]))\n",
        "\n",
        "print(\"K-Fold Accuracies: \")    \n",
        "for i , result in enumerate(results):\n",
        "    print(\"Interation\",i + 1,\":\", result.round(2))"
      ],
      "metadata": {
        "id": "hDB3YziESavQ",
        "colab": {
          "base_uri": "https://localhost:8080/"
        },
        "outputId": "6461e461-281c-45ff-8239-413bda946193"
      },
      "execution_count": 35,
      "outputs": [
        {
          "output_type": "stream",
          "name": "stdout",
          "text": [
            "K-Fold Accuracies: \n",
            "Interation 1 : 0.48\n",
            "Interation 2 : 0.45\n",
            "Interation 3 : 0.51\n",
            "Interation 4 : 0.41\n",
            "Interation 5 : 0.45\n"
          ]
        }
      ]
    },
    {
      "cell_type": "markdown",
      "source": [
        "## K-Fold Validation - SGD"
      ],
      "metadata": {
        "id": "9v8HiRtkrU0N"
      }
    },
    {
      "cell_type": "code",
      "source": [
        "results = []\n",
        "\n",
        "for train_index, test_index in kf.split(X_train):\n",
        "    train_set = (X_train.iloc[train_index, :], y_train.iloc[train_index])\n",
        "    test_set = (X_train.iloc[test_index, :], y_train.iloc[test_index])\n",
        "    \n",
        "    sgd = SGDClassifier(loss='hinge', shuffle=True, random_state=101)\n",
        "    sgd.fit(train_set[0], train_set[1])\n",
        "    results.append(sgd.score(test_set[0], test_set[1]))\n",
        "\n",
        "print(\"K-Fold Accuracies: \")    \n",
        "for i , result in enumerate(results):\n",
        "    print(\"Interation\",i + 1,\":\", result.round(2))"
      ],
      "metadata": {
        "colab": {
          "base_uri": "https://localhost:8080/"
        },
        "id": "CL6_aaA9q7ub",
        "outputId": "4b08a9c1-53d4-423c-eab1-c4741b3e3748"
      },
      "execution_count": 36,
      "outputs": [
        {
          "output_type": "stream",
          "name": "stdout",
          "text": [
            "K-Fold Accuracies: \n",
            "Interation 1 : 0.42\n",
            "Interation 2 : 0.3\n",
            "Interation 3 : 0.42\n",
            "Interation 4 : 0.47\n",
            "Interation 5 : 0.34\n"
          ]
        }
      ]
    },
    {
      "cell_type": "markdown",
      "source": [
        "### 6. Deployment"
      ],
      "metadata": {
        "id": "r6W62aI0FbZA"
      }
    },
    {
      "cell_type": "markdown",
      "source": [
        "Link Deployment:https://github.com/mraflyaf/data-mining-project-akhir"
      ],
      "metadata": {
        "id": "EKnOC23lFfT1"
      }
    },
    {
      "cell_type": "code",
      "source": [
        ""
      ],
      "metadata": {
        "id": "wNUKMyW1Fhid"
      },
      "execution_count": 36,
      "outputs": []
    }
  ]
}